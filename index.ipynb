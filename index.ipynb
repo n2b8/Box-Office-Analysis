{
 "cells": [
  {
   "metadata": {},
   "cell_type": "markdown",
   "source": [
    "# Movie Studio Analysis: Understanding Box Office Success\n",
    "## Business Understanding\n",
    "The company is planning to launch a new movie studio, but lacks experience in movie production. The goal of this analysis is to explore current trends in the film industry and provide actionable insights that can guide the studio's strategy. This analysis focuses on identifying factors that contribute to box office success, including genre, budget, release timing, and the impact of key personnel such as directors, actors, and writers.\n",
    "    "
   ],
   "id": "641b1d4bb8d17bf8"
  },
  {
   "metadata": {},
   "cell_type": "markdown",
   "source": [
    "## Data Understanding\n",
    "The analysis is based on multiple datasets related to movie budgets, revenues, genres, release dates, and key personnel (directors, actors, and writers).\n",
    "\n",
    "These datasets include:\n",
    "   - **Box Office Mojo (BOM) Movie Gross**: Contains information on domestic and foreign box office revenues.\n",
    "   - **Rotten Tomatoes (RT) Movie Info**: Provides metadata about movies, including genres and release dates.\n",
    "   - **TMDB Movies**: Includes information on movie popularity and ratings.\n",
    "   - **IMDb Database**: Provides detailed information on directors, actors, writers, and other key personnel involved in the movies.\n",
    "    "
   ],
   "id": "a1ef895ddc939345"
  },
  {
   "metadata": {},
   "cell_type": "markdown",
   "source": [
    "## Data Preparation\n",
    "In this section, we will load, clean, and merge the datasets to prepare them for analysis."
   ],
   "id": "1228e2f43b54fb5a"
  },
  {
   "metadata": {
    "ExecuteTime": {
     "end_time": "2024-09-03T22:58:41.352954Z",
     "start_time": "2024-09-03T22:58:41.323561Z"
    }
   },
   "cell_type": "code",
   "source": [
    "# Library imports\n",
    "import pandas as pd\n",
    "import sqlite3\n",
    "from zipfile import ZipFile\n",
    "import numpy as np"
   ],
   "id": "2e6858b81267ff2",
   "outputs": [],
   "execution_count": 7
  },
  {
   "metadata": {
    "ExecuteTime": {
     "end_time": "2024-09-03T21:46:38.143429Z",
     "start_time": "2024-09-03T21:46:38.064486Z"
    }
   },
   "cell_type": "code",
   "source": [
    "# Load the datasets\n",
    "rt_movie_info = pd.read_csv(\"zippedData/rt.movie_info.tsv.gz\", sep=\"\\t\")\n",
    "tmdb_movies = pd.read_csv(\"zippedData/tmdb.movies.csv.gz\")\n",
    "tn_movies = pd.read_csv(\"zippedData/tn.movie_budgets.csv.gz\")"
   ],
   "id": "c63942a5f2739757",
   "outputs": [],
   "execution_count": 4
  },
  {
   "metadata": {
    "ExecuteTime": {
     "end_time": "2024-09-03T21:55:45.792657Z",
     "start_time": "2024-09-03T21:55:41.720294Z"
    }
   },
   "cell_type": "code",
   "source": [
    "# Loading IMDb SQLite database\n",
    "\n",
    "# Unzip the sqlite db file if not already done\n",
    "with ZipFile(\"zippedData/im.db.zip\", 'r') as zObject:\n",
    "    zObject.extractall(\"zippedData/\")\n",
    "\n",
    "# Creating the connection\n",
    "conn = sqlite3.connect(\"zippedData/im.db\")\n",
    "\n",
    "# Loading data for directors, actors, and writers filtering for US movies in English\n",
    "\n",
    "# Queries\n",
    "query_directors = \"\"\"\n",
    "SELECT mb.*, mr.averagerating, mr.numvotes, p.primary_name, p.birth_year, p.death_year, p.primary_profession\n",
    "FROM movie_basics AS mb\n",
    "JOIN movie_ratings AS mr ON mb.movie_id = mr.movie_id\n",
    "JOIN principals AS pr ON mb.movie_id = pr.movie_id\n",
    "JOIN persons AS p ON pr.person_id = p.person_id\n",
    "JOIN movie_akas AS ma ON mb.movie_id = ma.movie_id\n",
    "WHERE ma.region = 'US'\n",
    "AND pr.category = 'director'\n",
    "AND ma.language = 'en';\n",
    "\"\"\"\n",
    "\n",
    "query_actors = \"\"\"\n",
    "SELECT mb.*, mr.averagerating, mr.numvotes, p.primary_name, p.birth_year, p.death_year, p.primary_profession\n",
    "FROM movie_basics AS mb\n",
    "JOIN movie_ratings AS mr ON mb.movie_id = mr.movie_id\n",
    "JOIN principals AS pr ON mb.movie_id = pr.movie_id\n",
    "JOIN persons AS p ON pr.person_id = p.person_id\n",
    "JOIN movie_akas AS ma ON mb.movie_id = ma.movie_id\n",
    "WHERE ma.region = 'US'\n",
    "AND pr.category = 'actor'\n",
    "AND ma.language = 'en';\n",
    "\"\"\"\n",
    "\n",
    "query_writers = \"\"\"\n",
    "SELECT mb.*, mr.averagerating, mr.numvotes, p.primary_name, p.birth_year, p.death_year, p.primary_profession\n",
    "FROM movie_basics AS mb\n",
    "JOIN movie_ratings AS mr ON mb.movie_id = mr.movie_id\n",
    "JOIN principals AS pr ON mb.movie_id = pr.movie_id\n",
    "JOIN persons AS p ON pr.person_id = p.person_id\n",
    "JOIN movie_akas AS ma ON mb.movie_id = ma.movie_id\n",
    "WHERE ma.region = 'US'\n",
    "AND pr.category = 'writer'\n",
    "AND ma.language = 'en';\n",
    "\"\"\"\n",
    "\n",
    "# Execute queries and assign to dataframes\n",
    "directors_merged = pd.read_sql_query(query_directors, conn)\n",
    "actors_merged = pd.read_sql_query(query_actors, conn)\n",
    "writers_merged = pd.read_sql_query(query_writers, conn)\n",
    "\n",
    "# Close the connection\n",
    "conn.close()"
   ],
   "id": "64dc33962b3f561f",
   "outputs": [],
   "execution_count": 6
  },
  {
   "metadata": {},
   "cell_type": "markdown",
   "source": [
    "## Data Cleaning\n",
    "Here I'll go through the process of cleaning the data by handling missing values, removing duplicate information, recasting data types, and feature engineering"
   ],
   "id": "d16f5427cb9d8f9f"
  },
  {
   "metadata": {},
   "cell_type": "code",
   "outputs": [],
   "execution_count": null,
   "source": "",
   "id": "72fb96118dd148f3"
  }
 ],
 "metadata": {
  "kernelspec": {
   "display_name": "Python 3",
   "language": "python",
   "name": "python3"
  },
  "language_info": {
   "codemirror_mode": {
    "name": "ipython",
    "version": 2
   },
   "file_extension": ".py",
   "mimetype": "text/x-python",
   "name": "python",
   "nbconvert_exporter": "python",
   "pygments_lexer": "ipython2",
   "version": "2.7.6"
  }
 },
 "nbformat": 4,
 "nbformat_minor": 5
}
