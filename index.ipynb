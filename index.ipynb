{
 "cells": [
  {
   "metadata": {},
   "cell_type": "markdown",
   "source": [
    "# Movie Studio Analysis: Understanding Box Office Success\n",
    "## Business Understanding\n",
    "The company is planning to launch a new movie studio, but lacks experience in movie production. The goal of this analysis is to explore current trends in the film industry and provide actionable insights that can guide the studio's strategy. This analysis focuses on identifying factors that contribute to box office success, including genre, budget, release timing, and the impact of key personnel such as directors, actors, and writers.\n",
    "    "
   ],
   "id": "641b1d4bb8d17bf8"
  },
  {
   "metadata": {},
   "cell_type": "markdown",
   "source": [
    "## Data Understanding\n",
    "The analysis is based on multiple datasets related to movie budgets, revenues, genres, release dates, and key personnel (directors, actors, and writers).\n",
    "\n",
    "These datasets include:\n",
    "   - **Box Office Mojo (BOM) Movie Gross**: Contains information on domestic and foreign box office revenues.\n",
    "   - **TMDB Movies**: Includes information on movie popularity and ratings.\n",
    "   - **IMDb Database**: Provides detailed information on directors, actors, writers, and other key personnel involved in the movies.\n",
    "    "
   ],
   "id": "a1ef895ddc939345"
  },
  {
   "metadata": {},
   "cell_type": "markdown",
   "source": [
    "## Data Preparation\n",
    "In this section, we will load, clean, and merge the datasets to prepare them for analysis."
   ],
   "id": "1228e2f43b54fb5a"
  },
  {
   "metadata": {
    "ExecuteTime": {
     "end_time": "2024-09-04T16:13:50.456824Z",
     "start_time": "2024-09-04T16:13:50.375805Z"
    }
   },
   "cell_type": "code",
   "source": [
    "# Library imports\n",
    "import pandas as pd\n",
    "import sqlite3\n",
    "from zipfile import ZipFile\n",
    "import numpy as np\n",
    "import scipy.stats as stats\n",
    "from dotenv import load_dotenv\n",
    "import os\n",
    "import requests\n",
    "import helper"
   ],
   "id": "2e6858b81267ff2",
   "outputs": [],
   "execution_count": 1
  },
  {
   "metadata": {
    "ExecuteTime": {
     "end_time": "2024-09-04T16:13:50.503215Z",
     "start_time": "2024-09-04T16:13:50.461189Z"
    }
   },
   "cell_type": "code",
   "source": [
    "# Load the datasets\n",
    "tmdb_movies = pd.read_csv(\"zippedData/tmdb.movies.csv.gz\")\n",
    "tn_movies = pd.read_csv(\"zippedData/tn.movie_budgets.csv.gz\")"
   ],
   "id": "c63942a5f2739757",
   "outputs": [],
   "execution_count": 2
  },
  {
   "metadata": {
    "ExecuteTime": {
     "end_time": "2024-09-04T16:13:55.093125Z",
     "start_time": "2024-09-04T16:13:50.575556Z"
    }
   },
   "cell_type": "code",
   "source": [
    "# Loading IMDb SQLite database\n",
    "\n",
    "# Unzip the sqlite db file if not already done\n",
    "with ZipFile(\"zippedData/im.db.zip\", 'r') as zObject:\n",
    "    zObject.extractall(\"zippedData/\")\n",
    "\n",
    "# Creating the connection\n",
    "conn = sqlite3.connect(\"zippedData/im.db\")\n",
    "\n",
    "# Loading data for directors, actors, and writers filtering for US movies in English\n",
    "\n",
    "# Queries\n",
    "query_directors = \"\"\"\n",
    "SELECT mb.*, mr.averagerating, mr.numvotes, p.primary_name, p.birth_year, p.death_year, p.primary_profession\n",
    "FROM movie_basics AS mb\n",
    "JOIN movie_ratings AS mr ON mb.movie_id = mr.movie_id\n",
    "JOIN principals AS pr ON mb.movie_id = pr.movie_id\n",
    "JOIN persons AS p ON pr.person_id = p.person_id\n",
    "JOIN movie_akas AS ma ON mb.movie_id = ma.movie_id\n",
    "WHERE ma.region = 'US'\n",
    "AND pr.category = 'director'\n",
    "AND ma.language = 'en';\n",
    "\"\"\"\n",
    "\n",
    "query_actors = \"\"\"\n",
    "SELECT mb.*, mr.averagerating, mr.numvotes, p.primary_name, p.birth_year, p.death_year, p.primary_profession\n",
    "FROM movie_basics AS mb\n",
    "JOIN movie_ratings AS mr ON mb.movie_id = mr.movie_id\n",
    "JOIN principals AS pr ON mb.movie_id = pr.movie_id\n",
    "JOIN persons AS p ON pr.person_id = p.person_id\n",
    "JOIN movie_akas AS ma ON mb.movie_id = ma.movie_id\n",
    "WHERE ma.region = 'US'\n",
    "AND pr.category = 'actor'\n",
    "AND ma.language = 'en';\n",
    "\"\"\"\n",
    "\n",
    "query_writers = \"\"\"\n",
    "SELECT mb.*, mr.averagerating, mr.numvotes, p.primary_name, p.birth_year, p.death_year, p.primary_profession\n",
    "FROM movie_basics AS mb\n",
    "JOIN movie_ratings AS mr ON mb.movie_id = mr.movie_id\n",
    "JOIN principals AS pr ON mb.movie_id = pr.movie_id\n",
    "JOIN persons AS p ON pr.person_id = p.person_id\n",
    "JOIN movie_akas AS ma ON mb.movie_id = ma.movie_id\n",
    "WHERE ma.region = 'US'\n",
    "AND pr.category = 'writer'\n",
    "AND ma.language = 'en';\n",
    "\"\"\"\n",
    "\n",
    "query_basics = \"\"\"\n",
    "SELECT *\n",
    "FROM movie_basics\n",
    "\"\"\"\n",
    "\n",
    "query_ratings = \"\"\"\n",
    "SELECT *\n",
    "FROM movie_ratings\n",
    "\"\"\"\n",
    "\n",
    "# Execute queries and assign to dataframes\n",
    "directors_merged = pd.read_sql_query(query_directors, conn)\n",
    "actors_merged = pd.read_sql_query(query_actors, conn)\n",
    "writers_merged = pd.read_sql_query(query_writers, conn)\n",
    "movie_basics = pd.read_sql_query(query_basics, conn)\n",
    "movie_ratings = pd.read_sql_query(query_ratings, conn)\n",
    "\n",
    "# Close the connection\n",
    "conn.close()"
   ],
   "id": "64dc33962b3f561f",
   "outputs": [],
   "execution_count": 3
  },
  {
   "metadata": {},
   "cell_type": "markdown",
   "source": [
    "## Data Cleaning\n",
    "Here I'll go through the process of cleaning the data by handling missing values, removing duplicate information, recasting data types, and feature engineering"
   ],
   "id": "d16f5427cb9d8f9f"
  },
  {
   "metadata": {
    "ExecuteTime": {
     "end_time": "2024-09-04T16:13:55.177264Z",
     "start_time": "2024-09-04T16:13:55.118508Z"
    }
   },
   "cell_type": "code",
   "source": [
    "# Cleaning IMDb data\n",
    "\n",
    "directors_cleaned = helper.clean_imdb_data(directors_merged)\n",
    "actors_cleaned = helper.clean_imdb_data(actors_merged)\n",
    "writers_cleaned = helper.clean_imdb_data(writers_merged)\n",
    "\n",
    "# Extracting the primary genre from the 'genres' column\n",
    "movie_basics['primary_genre'] = movie_basics['genres'].apply(lambda x: x.split(',')[0] if pd.notnull(x) else None)"
   ],
   "id": "72fb96118dd148f3",
   "outputs": [],
   "execution_count": 4
  },
  {
   "metadata": {
    "ExecuteTime": {
     "end_time": "2024-09-04T16:13:55.211624Z",
     "start_time": "2024-09-04T16:13:55.196597Z"
    }
   },
   "cell_type": "code",
   "source": [
    "# Cleaning TMDB data\n",
    "tmdb_cleaned = helper.clean_tmdb_data(tmdb_movies)"
   ],
   "id": "befda6ff97ec26d8",
   "outputs": [],
   "execution_count": 5
  },
  {
   "metadata": {
    "ExecuteTime": {
     "end_time": "2024-09-04T16:13:55.247184Z",
     "start_time": "2024-09-04T16:13:55.231817Z"
    }
   },
   "cell_type": "code",
   "source": [
    "# Cleaning 'The Numbers' movie budgets data\n",
    "\n",
    "tn_movie_budgets_cleaned = helper.clean_tn_movie_budgets(tn_movies)"
   ],
   "id": "225d60702903692f",
   "outputs": [],
   "execution_count": 6
  },
  {
   "metadata": {
    "ExecuteTime": {
     "end_time": "2024-09-04T16:13:55.323682Z",
     "start_time": "2024-09-04T16:13:55.277657Z"
    }
   },
   "cell_type": "code",
   "source": [
    "# Merge TMDB and TN Movie Budgets data\n",
    "merged_data = pd.merge(tmdb_cleaned, tn_movie_budgets_cleaned, left_on='title', right_on='movie')\n",
    "\n",
    "# Dropping duplicates based on 'title' and 'release_date'\n",
    "if 'release_date' in merged_data.columns:\n",
    "    merged_data = merged_data.drop_duplicates(subset=['title', 'release_date'])\n",
    "    print(\"Dropped duplicates based on 'title' and 'release_date'.\")\n",
    "else:\n",
    "    print(\"Error: 'release_date' column is missing in the merged data.\")\n",
    "    \n",
    "# Merging IMDb data\n",
    "# Ensuring correct data types\n",
    "movie_basics['primary_title'] = movie_basics['primary_title'].astype(str)\n",
    "merged_data['title'] = merged_data['title'].astype(str)\n",
    "\n",
    "# Merge the primary genre from IMDb into the merged_data DataFrame\n",
    "merged_data = pd.merge(merged_data, movie_basics[['primary_title', 'primary_genre']], left_on='title', right_on='primary_title', how='left')\n",
    "\n",
    "# Drop the extra 'primary_title' column after merging\n",
    "merged_data = merged_data.drop(columns=['primary_title'])"
   ],
   "id": "fa8b4cfacc2ec8a0",
   "outputs": [
    {
     "name": "stdout",
     "output_type": "stream",
     "text": [
      "Error: 'release_date' column is missing in the merged data.\n"
     ]
    }
   ],
   "execution_count": 7
  },
  {
   "metadata": {
    "ExecuteTime": {
     "end_time": "2024-09-04T16:13:55.352472Z",
     "start_time": "2024-09-04T16:13:55.350181Z"
    }
   },
   "cell_type": "code",
   "source": [
    "# Adding in ROI columns\n",
    "merged_data['roi_domestic'] = merged_data['domestic_gross'] / merged_data['production_budget']\n",
    "merged_data['roi_worldwide'] = merged_data['worldwide_gross'] / merged_data['production_budget']"
   ],
   "id": "2bd4717f08c8c0b1",
   "outputs": [],
   "execution_count": 8
  },
  {
   "metadata": {
    "ExecuteTime": {
     "end_time": "2024-09-04T16:13:55.380188Z",
     "start_time": "2024-09-04T16:13:55.376961Z"
    }
   },
   "cell_type": "code",
   "source": [
    "# Extract the month from 'release_date_x' and create a new 'month' column\n",
    "merged_data['month'] = merged_data['release_date_x'].dt.month"
   ],
   "id": "5214f64d27e977b0",
   "outputs": [],
   "execution_count": 9
  },
  {
   "metadata": {
    "ExecuteTime": {
     "end_time": "2024-09-04T16:13:55.412276Z",
     "start_time": "2024-09-04T16:13:55.408203Z"
    }
   },
   "cell_type": "code",
   "source": [
    "# Drop duplicates based on 'title' and 'release_date'\n",
    "merged_data = merged_data.drop_duplicates(subset=['title', 'release_date_x'])"
   ],
   "id": "6c0d503e43f626f",
   "outputs": [],
   "execution_count": 10
  },
  {
   "metadata": {
    "ExecuteTime": {
     "end_time": "2024-09-04T16:13:55.452007Z",
     "start_time": "2024-09-04T16:13:55.440418Z"
    }
   },
   "cell_type": "code",
   "source": [
    "# Final merged dataset preview\n",
    "merged_data.head()"
   ],
   "id": "2f5533c6ac7434e1",
   "outputs": [
    {
     "data": {
      "text/plain": [
       "   Unnamed: 0            genre_ids   id_x original_language  \\\n",
       "0           1  [14, 12, 16, 10751]  10191                en   \n",
       "1           2        [12, 28, 878]  10138                en   \n",
       "2           3      [16, 35, 10751]    862                en   \n",
       "3           4        [28, 878, 12]  27205                en   \n",
       "4           5      [12, 14, 10751]  32657                en   \n",
       "\n",
       "                                      original_title  popularity  \\\n",
       "0                           How to Train Your Dragon      28.734   \n",
       "1                                         Iron Man 2      28.515   \n",
       "2                                          Toy Story      28.005   \n",
       "3                                          Inception      27.920   \n",
       "4  Percy Jackson & the Olympians: The Lightning T...      26.691   \n",
       "\n",
       "  release_date_x                                              title  \\\n",
       "0     2010-03-26                           How to Train Your Dragon   \n",
       "1     2010-05-07                                         Iron Man 2   \n",
       "2     1995-11-22                                          Toy Story   \n",
       "3     2010-07-16                                          Inception   \n",
       "4     2010-02-11  Percy Jackson & the Olympians: The Lightning T...   \n",
       "\n",
       "   vote_average  vote_count  id_y release_date_y  \\\n",
       "0           7.7        7610    30     2010-03-26   \n",
       "1           6.8       12368    15     2010-05-07   \n",
       "2           7.9       10174    37     1995-11-22   \n",
       "3           8.3       22186    38     2010-07-16   \n",
       "4           6.1        4229    17     2010-02-12   \n",
       "\n",
       "                                               movie  production_budget  \\\n",
       "0                           How to Train Your Dragon        165000000.0   \n",
       "1                                         Iron Man 2        170000000.0   \n",
       "2                                          Toy Story         30000000.0   \n",
       "3                                          Inception        160000000.0   \n",
       "4  Percy Jackson & the Olympians: The Lightning T...         95000000.0   \n",
       "\n",
       "   domestic_gross  worldwide_gross primary_genre  roi_domestic  roi_worldwide  \\\n",
       "0     217581232.0      494870992.0        Action      1.318674       2.999218   \n",
       "1     312433331.0      621156389.0        Action      1.837843       3.653861   \n",
       "2     191796233.0      364545516.0           NaN      6.393208      12.151517   \n",
       "3     292576195.0      835524642.0        Action      1.828601       5.222029   \n",
       "4      88768303.0      223050874.0     Adventure      0.934403       2.347904   \n",
       "\n",
       "   month  \n",
       "0      3  \n",
       "1      5  \n",
       "2     11  \n",
       "3      7  \n",
       "4      2  "
      ],
      "text/html": [
       "<div>\n",
       "<style scoped>\n",
       "    .dataframe tbody tr th:only-of-type {\n",
       "        vertical-align: middle;\n",
       "    }\n",
       "\n",
       "    .dataframe tbody tr th {\n",
       "        vertical-align: top;\n",
       "    }\n",
       "\n",
       "    .dataframe thead th {\n",
       "        text-align: right;\n",
       "    }\n",
       "</style>\n",
       "<table border=\"1\" class=\"dataframe\">\n",
       "  <thead>\n",
       "    <tr style=\"text-align: right;\">\n",
       "      <th></th>\n",
       "      <th>Unnamed: 0</th>\n",
       "      <th>genre_ids</th>\n",
       "      <th>id_x</th>\n",
       "      <th>original_language</th>\n",
       "      <th>original_title</th>\n",
       "      <th>popularity</th>\n",
       "      <th>release_date_x</th>\n",
       "      <th>title</th>\n",
       "      <th>vote_average</th>\n",
       "      <th>vote_count</th>\n",
       "      <th>id_y</th>\n",
       "      <th>release_date_y</th>\n",
       "      <th>movie</th>\n",
       "      <th>production_budget</th>\n",
       "      <th>domestic_gross</th>\n",
       "      <th>worldwide_gross</th>\n",
       "      <th>primary_genre</th>\n",
       "      <th>roi_domestic</th>\n",
       "      <th>roi_worldwide</th>\n",
       "      <th>month</th>\n",
       "    </tr>\n",
       "  </thead>\n",
       "  <tbody>\n",
       "    <tr>\n",
       "      <th>0</th>\n",
       "      <td>1</td>\n",
       "      <td>[14, 12, 16, 10751]</td>\n",
       "      <td>10191</td>\n",
       "      <td>en</td>\n",
       "      <td>How to Train Your Dragon</td>\n",
       "      <td>28.734</td>\n",
       "      <td>2010-03-26</td>\n",
       "      <td>How to Train Your Dragon</td>\n",
       "      <td>7.7</td>\n",
       "      <td>7610</td>\n",
       "      <td>30</td>\n",
       "      <td>2010-03-26</td>\n",
       "      <td>How to Train Your Dragon</td>\n",
       "      <td>165000000.0</td>\n",
       "      <td>217581232.0</td>\n",
       "      <td>494870992.0</td>\n",
       "      <td>Action</td>\n",
       "      <td>1.318674</td>\n",
       "      <td>2.999218</td>\n",
       "      <td>3</td>\n",
       "    </tr>\n",
       "    <tr>\n",
       "      <th>1</th>\n",
       "      <td>2</td>\n",
       "      <td>[12, 28, 878]</td>\n",
       "      <td>10138</td>\n",
       "      <td>en</td>\n",
       "      <td>Iron Man 2</td>\n",
       "      <td>28.515</td>\n",
       "      <td>2010-05-07</td>\n",
       "      <td>Iron Man 2</td>\n",
       "      <td>6.8</td>\n",
       "      <td>12368</td>\n",
       "      <td>15</td>\n",
       "      <td>2010-05-07</td>\n",
       "      <td>Iron Man 2</td>\n",
       "      <td>170000000.0</td>\n",
       "      <td>312433331.0</td>\n",
       "      <td>621156389.0</td>\n",
       "      <td>Action</td>\n",
       "      <td>1.837843</td>\n",
       "      <td>3.653861</td>\n",
       "      <td>5</td>\n",
       "    </tr>\n",
       "    <tr>\n",
       "      <th>2</th>\n",
       "      <td>3</td>\n",
       "      <td>[16, 35, 10751]</td>\n",
       "      <td>862</td>\n",
       "      <td>en</td>\n",
       "      <td>Toy Story</td>\n",
       "      <td>28.005</td>\n",
       "      <td>1995-11-22</td>\n",
       "      <td>Toy Story</td>\n",
       "      <td>7.9</td>\n",
       "      <td>10174</td>\n",
       "      <td>37</td>\n",
       "      <td>1995-11-22</td>\n",
       "      <td>Toy Story</td>\n",
       "      <td>30000000.0</td>\n",
       "      <td>191796233.0</td>\n",
       "      <td>364545516.0</td>\n",
       "      <td>NaN</td>\n",
       "      <td>6.393208</td>\n",
       "      <td>12.151517</td>\n",
       "      <td>11</td>\n",
       "    </tr>\n",
       "    <tr>\n",
       "      <th>3</th>\n",
       "      <td>4</td>\n",
       "      <td>[28, 878, 12]</td>\n",
       "      <td>27205</td>\n",
       "      <td>en</td>\n",
       "      <td>Inception</td>\n",
       "      <td>27.920</td>\n",
       "      <td>2010-07-16</td>\n",
       "      <td>Inception</td>\n",
       "      <td>8.3</td>\n",
       "      <td>22186</td>\n",
       "      <td>38</td>\n",
       "      <td>2010-07-16</td>\n",
       "      <td>Inception</td>\n",
       "      <td>160000000.0</td>\n",
       "      <td>292576195.0</td>\n",
       "      <td>835524642.0</td>\n",
       "      <td>Action</td>\n",
       "      <td>1.828601</td>\n",
       "      <td>5.222029</td>\n",
       "      <td>7</td>\n",
       "    </tr>\n",
       "    <tr>\n",
       "      <th>4</th>\n",
       "      <td>5</td>\n",
       "      <td>[12, 14, 10751]</td>\n",
       "      <td>32657</td>\n",
       "      <td>en</td>\n",
       "      <td>Percy Jackson &amp; the Olympians: The Lightning T...</td>\n",
       "      <td>26.691</td>\n",
       "      <td>2010-02-11</td>\n",
       "      <td>Percy Jackson &amp; the Olympians: The Lightning T...</td>\n",
       "      <td>6.1</td>\n",
       "      <td>4229</td>\n",
       "      <td>17</td>\n",
       "      <td>2010-02-12</td>\n",
       "      <td>Percy Jackson &amp; the Olympians: The Lightning T...</td>\n",
       "      <td>95000000.0</td>\n",
       "      <td>88768303.0</td>\n",
       "      <td>223050874.0</td>\n",
       "      <td>Adventure</td>\n",
       "      <td>0.934403</td>\n",
       "      <td>2.347904</td>\n",
       "      <td>2</td>\n",
       "    </tr>\n",
       "  </tbody>\n",
       "</table>\n",
       "</div>"
      ]
     },
     "execution_count": 11,
     "metadata": {},
     "output_type": "execute_result"
    }
   ],
   "execution_count": 11
  },
  {
   "metadata": {
    "ExecuteTime": {
     "end_time": "2024-09-04T16:13:55.505942Z",
     "start_time": "2024-09-04T16:13:55.500539Z"
    }
   },
   "cell_type": "code",
   "source": "merged_data.info()",
   "id": "113caf90b34f9877",
   "outputs": [
    {
     "name": "stdout",
     "output_type": "stream",
     "text": [
      "<class 'pandas.core.frame.DataFrame'>\n",
      "Index: 2124 entries, 0 to 4420\n",
      "Data columns (total 20 columns):\n",
      " #   Column             Non-Null Count  Dtype         \n",
      "---  ------             --------------  -----         \n",
      " 0   Unnamed: 0         2124 non-null   int64         \n",
      " 1   genre_ids          2124 non-null   object        \n",
      " 2   id_x               2124 non-null   int64         \n",
      " 3   original_language  2124 non-null   object        \n",
      " 4   original_title     2124 non-null   object        \n",
      " 5   popularity         2124 non-null   float64       \n",
      " 6   release_date_x     2124 non-null   datetime64[ns]\n",
      " 7   title              2124 non-null   object        \n",
      " 8   vote_average       2124 non-null   float64       \n",
      " 9   vote_count         2124 non-null   int64         \n",
      " 10  id_y               2124 non-null   int64         \n",
      " 11  release_date_y     2124 non-null   datetime64[ns]\n",
      " 12  movie              2124 non-null   object        \n",
      " 13  production_budget  2124 non-null   float64       \n",
      " 14  domestic_gross     2124 non-null   float64       \n",
      " 15  worldwide_gross    2124 non-null   float64       \n",
      " 16  primary_genre      1973 non-null   object        \n",
      " 17  roi_domestic       2124 non-null   float64       \n",
      " 18  roi_worldwide      2124 non-null   float64       \n",
      " 19  month              2124 non-null   int32         \n",
      "dtypes: datetime64[ns](2), float64(7), int32(1), int64(4), object(6)\n",
      "memory usage: 340.2+ KB\n"
     ]
    }
   ],
   "execution_count": 12
  },
  {
   "metadata": {
    "ExecuteTime": {
     "end_time": "2024-09-04T16:14:00.364211Z",
     "start_time": "2024-09-04T16:13:55.597445Z"
    }
   },
   "cell_type": "code",
   "source": [
    "# Looks like many of the genre values are missing. TMDB provides an API we can use to fill these in.\n",
    "\n",
    "merged_data = helper.update_missing_genres(merged_data)"
   ],
   "id": "1421adad204b6e8f",
   "outputs": [
    {
     "name": "stderr",
     "output_type": "stream",
     "text": [
      "Updating missing genres: 100%|██████████| 151/151 [00:04<00:00, 31.93it/s]\n"
     ]
    }
   ],
   "execution_count": 13
  },
  {
   "metadata": {
    "ExecuteTime": {
     "end_time": "2024-09-04T16:14:00.464343Z",
     "start_time": "2024-09-04T16:14:00.456242Z"
    }
   },
   "cell_type": "code",
   "source": "merged_data.info()",
   "id": "894ae26ec478fd85",
   "outputs": [
    {
     "name": "stdout",
     "output_type": "stream",
     "text": [
      "<class 'pandas.core.frame.DataFrame'>\n",
      "Index: 2124 entries, 0 to 4420\n",
      "Data columns (total 20 columns):\n",
      " #   Column             Non-Null Count  Dtype         \n",
      "---  ------             --------------  -----         \n",
      " 0   Unnamed: 0         2124 non-null   int64         \n",
      " 1   genre_ids          2124 non-null   object        \n",
      " 2   id_x               2124 non-null   int64         \n",
      " 3   original_language  2124 non-null   object        \n",
      " 4   original_title     2124 non-null   object        \n",
      " 5   popularity         2124 non-null   float64       \n",
      " 6   release_date_x     2124 non-null   datetime64[ns]\n",
      " 7   title              2124 non-null   object        \n",
      " 8   vote_average       2124 non-null   float64       \n",
      " 9   vote_count         2124 non-null   int64         \n",
      " 10  id_y               2124 non-null   int64         \n",
      " 11  release_date_y     2124 non-null   datetime64[ns]\n",
      " 12  movie              2124 non-null   object        \n",
      " 13  production_budget  2124 non-null   float64       \n",
      " 14  domestic_gross     2124 non-null   float64       \n",
      " 15  worldwide_gross    2124 non-null   float64       \n",
      " 16  primary_genre      2114 non-null   object        \n",
      " 17  roi_domestic       2124 non-null   float64       \n",
      " 18  roi_worldwide      2124 non-null   float64       \n",
      " 19  month              2124 non-null   int32         \n",
      "dtypes: datetime64[ns](2), float64(7), int32(1), int64(4), object(6)\n",
      "memory usage: 404.7+ KB\n"
     ]
    }
   ],
   "execution_count": 14
  },
  {
   "metadata": {
    "ExecuteTime": {
     "end_time": "2024-09-04T16:14:00.574038Z",
     "start_time": "2024-09-04T16:14:00.569748Z"
    }
   },
   "cell_type": "code",
   "source": [
    "# We were able to get genres for all but 10 of the movies so I will drop those that are missing\n",
    "merged_data = merged_data.dropna(subset=['primary_genre'])"
   ],
   "id": "be5dc0ebac43efec",
   "outputs": [],
   "execution_count": 15
  },
  {
   "metadata": {
    "ExecuteTime": {
     "end_time": "2024-09-04T16:15:05.853494Z",
     "start_time": "2024-09-04T16:14:00.603704Z"
    }
   },
   "cell_type": "code",
   "source": [
    "# I would also like to take a look at movies that belong to a franchise to see if they perform differently than those that are 'one-offs'\n",
    "\n",
    "# Initialize the 'franchise' and 'collection' columns\n",
    "merged_data['franchise'] = False\n",
    "merged_data['collection'] = None\n",
    "\n",
    "# Update the franchise info for all movies\n",
    "merged_data = helper.update_franchise_info(merged_data)\n",
    "\n",
    "# Preview the updated DataFrame\n",
    "merged_data.head()\n"
   ],
   "id": "3435661abb76c143",
   "outputs": [
    {
     "name": "stderr",
     "output_type": "stream",
     "text": [
      "Updating franchise info: 100%|██████████| 2114/2114 [01:05<00:00, 32.43it/s]\n"
     ]
    },
    {
     "data": {
      "text/plain": [
       "   Unnamed: 0            genre_ids   id_x original_language  \\\n",
       "0           1  [14, 12, 16, 10751]  10191                en   \n",
       "1           2        [12, 28, 878]  10138                en   \n",
       "2           3      [16, 35, 10751]    862                en   \n",
       "3           4        [28, 878, 12]  27205                en   \n",
       "4           5      [12, 14, 10751]  32657                en   \n",
       "\n",
       "                                      original_title  popularity  \\\n",
       "0                           How to Train Your Dragon      28.734   \n",
       "1                                         Iron Man 2      28.515   \n",
       "2                                          Toy Story      28.005   \n",
       "3                                          Inception      27.920   \n",
       "4  Percy Jackson & the Olympians: The Lightning T...      26.691   \n",
       "\n",
       "  release_date_x                                              title  \\\n",
       "0     2010-03-26                           How to Train Your Dragon   \n",
       "1     2010-05-07                                         Iron Man 2   \n",
       "2     1995-11-22                                          Toy Story   \n",
       "3     2010-07-16                                          Inception   \n",
       "4     2010-02-11  Percy Jackson & the Olympians: The Lightning T...   \n",
       "\n",
       "   vote_average  vote_count  ...  \\\n",
       "0           7.7        7610  ...   \n",
       "1           6.8       12368  ...   \n",
       "2           7.9       10174  ...   \n",
       "3           8.3       22186  ...   \n",
       "4           6.1        4229  ...   \n",
       "\n",
       "                                               movie production_budget  \\\n",
       "0                           How to Train Your Dragon       165000000.0   \n",
       "1                                         Iron Man 2       170000000.0   \n",
       "2                                          Toy Story        30000000.0   \n",
       "3                                          Inception       160000000.0   \n",
       "4  Percy Jackson & the Olympians: The Lightning T...        95000000.0   \n",
       "\n",
       "  domestic_gross  worldwide_gross  primary_genre  roi_domestic roi_worldwide  \\\n",
       "0    217581232.0      494870992.0         Action      1.318674      2.999218   \n",
       "1    312433331.0      621156389.0         Action      1.837843      3.653861   \n",
       "2    191796233.0      364545516.0      Animation      6.393208     12.151517   \n",
       "3    292576195.0      835524642.0         Action      1.828601      5.222029   \n",
       "4     88768303.0      223050874.0      Adventure      0.934403      2.347904   \n",
       "\n",
       "   month  franchise                           collection  \n",
       "0      3       True  How to Train Your Dragon Collection  \n",
       "1      5       True                  Iron Man Collection  \n",
       "2     11       True                 Toy Story Collection  \n",
       "3      7      False                                 None  \n",
       "4      2       True             Percy Jackson Collection  \n",
       "\n",
       "[5 rows x 22 columns]"
      ],
      "text/html": [
       "<div>\n",
       "<style scoped>\n",
       "    .dataframe tbody tr th:only-of-type {\n",
       "        vertical-align: middle;\n",
       "    }\n",
       "\n",
       "    .dataframe tbody tr th {\n",
       "        vertical-align: top;\n",
       "    }\n",
       "\n",
       "    .dataframe thead th {\n",
       "        text-align: right;\n",
       "    }\n",
       "</style>\n",
       "<table border=\"1\" class=\"dataframe\">\n",
       "  <thead>\n",
       "    <tr style=\"text-align: right;\">\n",
       "      <th></th>\n",
       "      <th>Unnamed: 0</th>\n",
       "      <th>genre_ids</th>\n",
       "      <th>id_x</th>\n",
       "      <th>original_language</th>\n",
       "      <th>original_title</th>\n",
       "      <th>popularity</th>\n",
       "      <th>release_date_x</th>\n",
       "      <th>title</th>\n",
       "      <th>vote_average</th>\n",
       "      <th>vote_count</th>\n",
       "      <th>...</th>\n",
       "      <th>movie</th>\n",
       "      <th>production_budget</th>\n",
       "      <th>domestic_gross</th>\n",
       "      <th>worldwide_gross</th>\n",
       "      <th>primary_genre</th>\n",
       "      <th>roi_domestic</th>\n",
       "      <th>roi_worldwide</th>\n",
       "      <th>month</th>\n",
       "      <th>franchise</th>\n",
       "      <th>collection</th>\n",
       "    </tr>\n",
       "  </thead>\n",
       "  <tbody>\n",
       "    <tr>\n",
       "      <th>0</th>\n",
       "      <td>1</td>\n",
       "      <td>[14, 12, 16, 10751]</td>\n",
       "      <td>10191</td>\n",
       "      <td>en</td>\n",
       "      <td>How to Train Your Dragon</td>\n",
       "      <td>28.734</td>\n",
       "      <td>2010-03-26</td>\n",
       "      <td>How to Train Your Dragon</td>\n",
       "      <td>7.7</td>\n",
       "      <td>7610</td>\n",
       "      <td>...</td>\n",
       "      <td>How to Train Your Dragon</td>\n",
       "      <td>165000000.0</td>\n",
       "      <td>217581232.0</td>\n",
       "      <td>494870992.0</td>\n",
       "      <td>Action</td>\n",
       "      <td>1.318674</td>\n",
       "      <td>2.999218</td>\n",
       "      <td>3</td>\n",
       "      <td>True</td>\n",
       "      <td>How to Train Your Dragon Collection</td>\n",
       "    </tr>\n",
       "    <tr>\n",
       "      <th>1</th>\n",
       "      <td>2</td>\n",
       "      <td>[12, 28, 878]</td>\n",
       "      <td>10138</td>\n",
       "      <td>en</td>\n",
       "      <td>Iron Man 2</td>\n",
       "      <td>28.515</td>\n",
       "      <td>2010-05-07</td>\n",
       "      <td>Iron Man 2</td>\n",
       "      <td>6.8</td>\n",
       "      <td>12368</td>\n",
       "      <td>...</td>\n",
       "      <td>Iron Man 2</td>\n",
       "      <td>170000000.0</td>\n",
       "      <td>312433331.0</td>\n",
       "      <td>621156389.0</td>\n",
       "      <td>Action</td>\n",
       "      <td>1.837843</td>\n",
       "      <td>3.653861</td>\n",
       "      <td>5</td>\n",
       "      <td>True</td>\n",
       "      <td>Iron Man Collection</td>\n",
       "    </tr>\n",
       "    <tr>\n",
       "      <th>2</th>\n",
       "      <td>3</td>\n",
       "      <td>[16, 35, 10751]</td>\n",
       "      <td>862</td>\n",
       "      <td>en</td>\n",
       "      <td>Toy Story</td>\n",
       "      <td>28.005</td>\n",
       "      <td>1995-11-22</td>\n",
       "      <td>Toy Story</td>\n",
       "      <td>7.9</td>\n",
       "      <td>10174</td>\n",
       "      <td>...</td>\n",
       "      <td>Toy Story</td>\n",
       "      <td>30000000.0</td>\n",
       "      <td>191796233.0</td>\n",
       "      <td>364545516.0</td>\n",
       "      <td>Animation</td>\n",
       "      <td>6.393208</td>\n",
       "      <td>12.151517</td>\n",
       "      <td>11</td>\n",
       "      <td>True</td>\n",
       "      <td>Toy Story Collection</td>\n",
       "    </tr>\n",
       "    <tr>\n",
       "      <th>3</th>\n",
       "      <td>4</td>\n",
       "      <td>[28, 878, 12]</td>\n",
       "      <td>27205</td>\n",
       "      <td>en</td>\n",
       "      <td>Inception</td>\n",
       "      <td>27.920</td>\n",
       "      <td>2010-07-16</td>\n",
       "      <td>Inception</td>\n",
       "      <td>8.3</td>\n",
       "      <td>22186</td>\n",
       "      <td>...</td>\n",
       "      <td>Inception</td>\n",
       "      <td>160000000.0</td>\n",
       "      <td>292576195.0</td>\n",
       "      <td>835524642.0</td>\n",
       "      <td>Action</td>\n",
       "      <td>1.828601</td>\n",
       "      <td>5.222029</td>\n",
       "      <td>7</td>\n",
       "      <td>False</td>\n",
       "      <td>None</td>\n",
       "    </tr>\n",
       "    <tr>\n",
       "      <th>4</th>\n",
       "      <td>5</td>\n",
       "      <td>[12, 14, 10751]</td>\n",
       "      <td>32657</td>\n",
       "      <td>en</td>\n",
       "      <td>Percy Jackson &amp; the Olympians: The Lightning T...</td>\n",
       "      <td>26.691</td>\n",
       "      <td>2010-02-11</td>\n",
       "      <td>Percy Jackson &amp; the Olympians: The Lightning T...</td>\n",
       "      <td>6.1</td>\n",
       "      <td>4229</td>\n",
       "      <td>...</td>\n",
       "      <td>Percy Jackson &amp; the Olympians: The Lightning T...</td>\n",
       "      <td>95000000.0</td>\n",
       "      <td>88768303.0</td>\n",
       "      <td>223050874.0</td>\n",
       "      <td>Adventure</td>\n",
       "      <td>0.934403</td>\n",
       "      <td>2.347904</td>\n",
       "      <td>2</td>\n",
       "      <td>True</td>\n",
       "      <td>Percy Jackson Collection</td>\n",
       "    </tr>\n",
       "  </tbody>\n",
       "</table>\n",
       "<p>5 rows × 22 columns</p>\n",
       "</div>"
      ]
     },
     "execution_count": 16,
     "metadata": {},
     "output_type": "execute_result"
    }
   ],
   "execution_count": 16
  },
  {
   "metadata": {},
   "cell_type": "markdown",
   "source": "## Hypothesis testing",
   "id": "ae64980d2c2eee0b"
  },
  {
   "metadata": {
    "ExecuteTime": {
     "end_time": "2024-09-04T16:15:05.993724Z",
     "start_time": "2024-09-04T16:15:05.944084Z"
    }
   },
   "cell_type": "code",
   "source": [
    "# Does genre significantly impact ROI?\n",
    "\n",
    "# Drop missing values for the relevant columns\n",
    "genre_roi_data = merged_data.dropna(subset=['primary_genre', 'roi_domestic', 'roi_worldwide'])\n",
    "\n",
    "# Group by primary genre and calculate the mean revenue for each genre\n",
    "genre_roi = genre_roi_data.groupby('primary_genre')['roi_worldwide'].mean()\n",
    "\n",
    "# Perform ANOVA to test if the means are significantly different\n",
    "anova_results = stats.f_oneway(*[genre_roi_data[genre_roi_data['primary_genre'] == genre]['roi_worldwide']\n",
    "                                 for genre in genre_roi.index])\n",
    "\n",
    "# Output the ANOVA results\n",
    "print(\"ANOVA Results for Genre Impact on Worldwide ROI:\")\n",
    "print(f\"F-statistic: {anova_results.statistic}, p-value: {anova_results.pvalue}\")\n",
    "\n",
    "# Interpretation\n",
    "if anova_results.pvalue < 0.05:\n",
    "    print(\"Reject the null hypothesis: There is a significant difference in worldwide ROI across genres.\")\n",
    "else:\n",
    "    print(\"Fail to reject the null hypothesis: No significant difference in worldwide ROI across genres.\")"
   ],
   "id": "7d1b8bfe5921ecbf",
   "outputs": [
    {
     "name": "stdout",
     "output_type": "stream",
     "text": [
      "ANOVA Results for Genre Impact on Worldwide ROI:\n",
      "F-statistic: 4.249328207795131, p-value: 3.88690241691565e-10\n",
      "Reject the null hypothesis: There is a significant difference in worldwide ROI across genres.\n"
     ]
    }
   ],
   "execution_count": 17
  },
  {
   "metadata": {
    "ExecuteTime": {
     "end_time": "2024-09-04T16:15:06.089276Z",
     "start_time": "2024-09-04T16:15:06.086747Z"
    }
   },
   "cell_type": "code",
   "source": "",
   "id": "f8950b0d4c41d174",
   "outputs": [],
   "execution_count": null
  }
 ],
 "metadata": {
  "kernelspec": {
   "display_name": "Python 3",
   "language": "python",
   "name": "python3"
  },
  "language_info": {
   "codemirror_mode": {
    "name": "ipython",
    "version": 2
   },
   "file_extension": ".py",
   "mimetype": "text/x-python",
   "name": "python",
   "nbconvert_exporter": "python",
   "pygments_lexer": "ipython2",
   "version": "2.7.6"
  }
 },
 "nbformat": 4,
 "nbformat_minor": 5
}
