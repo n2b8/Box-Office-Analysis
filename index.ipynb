{
 "cells": [
  {
   "metadata": {},
   "cell_type": "markdown",
   "source": [
    "# Movie Studio Analysis: Understanding Box Office Success\n",
    "## Business Understanding\n",
    "The company is planning to launch a new movie studio, but lacks experience in movie production. The goal of this analysis is to explore current trends in the film industry and provide actionable insights that can guide the studio's strategy. This analysis focuses on identifying factors that contribute to box office success, including genre, budget, release timing, and the impact of key personnel such as directors, actors, and writers.\n",
    "    "
   ],
   "id": "641b1d4bb8d17bf8"
  },
  {
   "metadata": {},
   "cell_type": "markdown",
   "source": [
    "## Data Understanding\n",
    "The analysis is based on multiple datasets related to movie budgets, revenues, genres, release dates, and key personnel (directors, actors, and writers).\n",
    "\n",
    "These datasets include:\n",
    "   - **Box Office Mojo (BOM) Movie Gross**: Contains information on domestic and foreign box office revenues.\n",
    "   - **Rotten Tomatoes (RT) Movie Info**: Provides metadata about movies, including genres and release dates.\n",
    "   - **TMDB Movies**: Includes information on movie popularity and ratings.\n",
    "   - **IMDb Database**: Provides detailed information on directors, actors, writers, and other key personnel involved in the movies.\n",
    "    "
   ],
   "id": "a1ef895ddc939345"
  },
  {
   "metadata": {},
   "cell_type": "markdown",
   "source": [
    "## Data Preparation\n",
    "In this section, we will load, clean, and merge the datasets to prepare them for analysis."
   ],
   "id": "1228e2f43b54fb5a"
  },
  {
   "metadata": {
    "ExecuteTime": {
     "end_time": "2024-09-03T21:47:48.164018Z",
     "start_time": "2024-09-03T21:47:48.155896Z"
    }
   },
   "cell_type": "code",
   "source": [
    "# Library imports\n",
    "import pandas as pd\n",
    "import sqlite3\n",
    "from zipfile import ZipFile"
   ],
   "id": "2e6858b81267ff2",
   "outputs": [],
   "execution_count": 5
  },
  {
   "metadata": {
    "ExecuteTime": {
     "end_time": "2024-09-03T21:46:38.143429Z",
     "start_time": "2024-09-03T21:46:38.064486Z"
    }
   },
   "cell_type": "code",
   "source": [
    "# Load the datasets\n",
    "rt_movie_info = pd.read_csv(\"zippedData/rt.movie_info.tsv.gz\", sep=\"\\t\")\n",
    "tmdb_movies = pd.read_csv(\"zippedData/tmdb.movies.csv.gz\")\n",
    "tn_movies = pd.read_csv(\"zippedData/tn.movie_budgets.csv.gz\")"
   ],
   "id": "c63942a5f2739757",
   "outputs": [],
   "execution_count": 4
  }
 ],
 "metadata": {
  "kernelspec": {
   "display_name": "Python 3",
   "language": "python",
   "name": "python3"
  },
  "language_info": {
   "codemirror_mode": {
    "name": "ipython",
    "version": 2
   },
   "file_extension": ".py",
   "mimetype": "text/x-python",
   "name": "python",
   "nbconvert_exporter": "python",
   "pygments_lexer": "ipython2",
   "version": "2.7.6"
  }
 },
 "nbformat": 4,
 "nbformat_minor": 5
}
