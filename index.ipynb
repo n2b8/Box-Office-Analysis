{
 "cells": [
  {
   "metadata": {},
   "cell_type": "markdown",
   "source": [
    "# Movie Studio Analysis: Understanding Box Office Success\n",
    "## Business Understanding\n",
    "The company is planning to launch a new movie studio, but lacks experience in movie production. The goal of this analysis is to explore current trends in the film industry and provide actionable insights that can guide the studio's strategy. This analysis focuses on identifying factors that contribute to box office success, including genre, budget, release timing, and the impact of key personnel such as directors, actors, and writers.\n",
    "    "
   ],
   "id": "641b1d4bb8d17bf8"
  },
  {
   "metadata": {},
   "cell_type": "markdown",
   "source": [
    "## Data Understanding\n",
    "The analysis is based on multiple datasets related to movie budgets, revenues, genres, release dates, and key personnel (directors, actors, and writers).\n",
    "\n",
    "These datasets include:\n",
    "   - **Box Office Mojo (BOM) Movie Gross**: Contains information on domestic and foreign box office revenues.\n",
    "   - **TMDB Movies**: Includes information on movie popularity and ratings.\n",
    "   - **IMDb Database**: Provides detailed information on directors, actors, writers, and other key personnel involved in the movies.\n",
    "    "
   ],
   "id": "a1ef895ddc939345"
  },
  {
   "metadata": {},
   "cell_type": "markdown",
   "source": [
    "## Data Preparation\n",
    "In this section, we will load, clean, and merge the datasets to prepare them for analysis."
   ],
   "id": "1228e2f43b54fb5a"
  },
  {
   "metadata": {
    "ExecuteTime": {
     "end_time": "2024-09-04T20:22:09.674028Z",
     "start_time": "2024-09-04T20:22:09.651369Z"
    }
   },
   "cell_type": "code",
   "source": [
    "# Library imports\n",
    "import pandas as pd\n",
    "import sqlite3\n",
    "from zipfile import ZipFile\n",
    "import scipy.stats as stats\n",
    "import helper\n",
    "import matplotlib.pyplot as plt\n",
    "import seaborn as sns"
   ],
   "id": "2e6858b81267ff2",
   "outputs": [],
   "execution_count": 41
  },
  {
   "metadata": {
    "ExecuteTime": {
     "end_time": "2024-09-04T17:07:08.539519Z",
     "start_time": "2024-09-04T17:07:08.483286Z"
    }
   },
   "cell_type": "code",
   "source": [
    "# Load the datasets\n",
    "tmdb_movies = pd.read_csv(\"zippedData/tmdb.movies.csv.gz\")\n",
    "tn_movies = pd.read_csv(\"zippedData/tn.movie_budgets.csv.gz\")"
   ],
   "id": "c63942a5f2739757",
   "outputs": [],
   "execution_count": 3
  },
  {
   "metadata": {
    "ExecuteTime": {
     "end_time": "2024-09-04T17:07:12.917127Z",
     "start_time": "2024-09-04T17:07:08.553633Z"
    }
   },
   "cell_type": "code",
   "source": [
    "# Loading IMDb SQLite database\n",
    "\n",
    "# Unzip the sqlite db file if not already done\n",
    "with ZipFile(\"zippedData/im.db.zip\", 'r') as zObject:\n",
    "    zObject.extractall(\"zippedData/\")\n",
    "\n",
    "# Creating the connection\n",
    "conn = sqlite3.connect(\"zippedData/im.db\")\n",
    "\n",
    "# Loading data for directors, actors, and writers filtering for US movies in English\n",
    "\n",
    "# Queries\n",
    "query_directors = \"\"\"\n",
    "SELECT mb.*, mr.averagerating, mr.numvotes, p.primary_name, p.birth_year, p.death_year, p.primary_profession\n",
    "FROM movie_basics AS mb\n",
    "JOIN movie_ratings AS mr ON mb.movie_id = mr.movie_id\n",
    "JOIN principals AS pr ON mb.movie_id = pr.movie_id\n",
    "JOIN persons AS p ON pr.person_id = p.person_id\n",
    "JOIN movie_akas AS ma ON mb.movie_id = ma.movie_id\n",
    "WHERE ma.region = 'US'\n",
    "AND pr.category = 'director'\n",
    "AND ma.language = 'en';\n",
    "\"\"\"\n",
    "\n",
    "query_actors = \"\"\"\n",
    "SELECT mb.*, mr.averagerating, mr.numvotes, p.primary_name, p.birth_year, p.death_year, p.primary_profession\n",
    "FROM movie_basics AS mb\n",
    "JOIN movie_ratings AS mr ON mb.movie_id = mr.movie_id\n",
    "JOIN principals AS pr ON mb.movie_id = pr.movie_id\n",
    "JOIN persons AS p ON pr.person_id = p.person_id\n",
    "JOIN movie_akas AS ma ON mb.movie_id = ma.movie_id\n",
    "WHERE ma.region = 'US'\n",
    "AND pr.category = 'actor'\n",
    "AND ma.language = 'en';\n",
    "\"\"\"\n",
    "\n",
    "query_writers = \"\"\"\n",
    "SELECT mb.*, mr.averagerating, mr.numvotes, p.primary_name, p.birth_year, p.death_year, p.primary_profession\n",
    "FROM movie_basics AS mb\n",
    "JOIN movie_ratings AS mr ON mb.movie_id = mr.movie_id\n",
    "JOIN principals AS pr ON mb.movie_id = pr.movie_id\n",
    "JOIN persons AS p ON pr.person_id = p.person_id\n",
    "JOIN movie_akas AS ma ON mb.movie_id = ma.movie_id\n",
    "WHERE ma.region = 'US'\n",
    "AND pr.category = 'writer'\n",
    "AND ma.language = 'en';\n",
    "\"\"\"\n",
    "\n",
    "query_basics = \"\"\"\n",
    "SELECT *\n",
    "FROM movie_basics\n",
    "\"\"\"\n",
    "\n",
    "query_ratings = \"\"\"\n",
    "SELECT *\n",
    "FROM movie_ratings\n",
    "\"\"\"\n",
    "\n",
    "# Execute queries and assign to dataframes\n",
    "directors_merged = pd.read_sql_query(query_directors, conn)\n",
    "actors_merged = pd.read_sql_query(query_actors, conn)\n",
    "writers_merged = pd.read_sql_query(query_writers, conn)\n",
    "movie_basics = pd.read_sql_query(query_basics, conn)\n",
    "movie_ratings = pd.read_sql_query(query_ratings, conn)\n",
    "\n",
    "# Close the connection\n",
    "conn.close()"
   ],
   "id": "64dc33962b3f561f",
   "outputs": [],
   "execution_count": 4
  },
  {
   "metadata": {},
   "cell_type": "markdown",
   "source": [
    "## Data Cleaning\n",
    "Here I'll go through the process of cleaning the data by handling missing values, removing duplicate information, recasting data types, and feature engineering"
   ],
   "id": "d16f5427cb9d8f9f"
  },
  {
   "metadata": {
    "ExecuteTime": {
     "end_time": "2024-09-04T17:07:13.006944Z",
     "start_time": "2024-09-04T17:07:12.948019Z"
    }
   },
   "cell_type": "code",
   "source": [
    "# Cleaning IMDb data\n",
    "\n",
    "directors_cleaned = helper.clean_imdb_data(directors_merged)\n",
    "actors_cleaned = helper.clean_imdb_data(actors_merged)\n",
    "writers_cleaned = helper.clean_imdb_data(writers_merged)\n",
    "\n",
    "# Extracting the primary genre from the 'genres' column\n",
    "movie_basics['primary_genre'] = movie_basics['genres'].apply(lambda x: x.split(',')[0] if pd.notnull(x) else None)"
   ],
   "id": "72fb96118dd148f3",
   "outputs": [],
   "execution_count": 5
  },
  {
   "metadata": {
    "ExecuteTime": {
     "end_time": "2024-09-04T17:07:13.026347Z",
     "start_time": "2024-09-04T17:07:13.010665Z"
    }
   },
   "cell_type": "code",
   "source": [
    "# Cleaning TMDB data\n",
    "tmdb_cleaned = helper.clean_tmdb_data(tmdb_movies)"
   ],
   "id": "befda6ff97ec26d8",
   "outputs": [],
   "execution_count": 6
  },
  {
   "metadata": {
    "ExecuteTime": {
     "end_time": "2024-09-04T17:07:13.063867Z",
     "start_time": "2024-09-04T17:07:13.047121Z"
    }
   },
   "cell_type": "code",
   "source": [
    "# Cleaning 'The Numbers' movie budgets data\n",
    "\n",
    "tn_movie_budgets_cleaned = helper.clean_tn_movie_budgets(tn_movies)"
   ],
   "id": "225d60702903692f",
   "outputs": [],
   "execution_count": 7
  },
  {
   "metadata": {
    "ExecuteTime": {
     "end_time": "2024-09-04T17:07:13.142026Z",
     "start_time": "2024-09-04T17:07:13.088973Z"
    }
   },
   "cell_type": "code",
   "source": [
    "# Merge TMDB and TN Movie Budgets data\n",
    "merged_data = pd.merge(tmdb_cleaned, tn_movie_budgets_cleaned, left_on='title', right_on='movie')\n",
    "\n",
    "# Dropping duplicates based on 'title' and 'release_date'\n",
    "if 'release_date' in merged_data.columns:\n",
    "    merged_data = merged_data.drop_duplicates(subset=['title', 'release_date'])\n",
    "    print(\"Dropped duplicates based on 'title' and 'release_date'.\")\n",
    "else:\n",
    "    print(\"Error: 'release_date' column is missing in the merged data.\")\n",
    "    \n",
    "# Merging IMDb data\n",
    "# Ensuring correct data types\n",
    "movie_basics['primary_title'] = movie_basics['primary_title'].astype(str)\n",
    "merged_data['title'] = merged_data['title'].astype(str)\n",
    "\n",
    "# Merge the primary genre from IMDb into the merged_data DataFrame\n",
    "merged_data = pd.merge(merged_data, movie_basics[['primary_title', 'primary_genre']], left_on='title', right_on='primary_title', how='left')\n",
    "\n",
    "# Drop the extra 'primary_title' column after merging\n",
    "merged_data = merged_data.drop(columns=['primary_title'])"
   ],
   "id": "fa8b4cfacc2ec8a0",
   "outputs": [
    {
     "name": "stdout",
     "output_type": "stream",
     "text": [
      "Error: 'release_date' column is missing in the merged data.\n"
     ]
    }
   ],
   "execution_count": 8
  },
  {
   "metadata": {
    "ExecuteTime": {
     "end_time": "2024-09-04T17:07:13.171901Z",
     "start_time": "2024-09-04T17:07:13.168570Z"
    }
   },
   "cell_type": "code",
   "source": [
    "# Adding in ROI columns\n",
    "merged_data['roi_domestic'] = merged_data['domestic_gross'] / merged_data['production_budget']\n",
    "merged_data['roi_worldwide'] = merged_data['worldwide_gross'] / merged_data['production_budget']"
   ],
   "id": "2bd4717f08c8c0b1",
   "outputs": [],
   "execution_count": 9
  },
  {
   "metadata": {
    "ExecuteTime": {
     "end_time": "2024-09-04T17:07:13.200759Z",
     "start_time": "2024-09-04T17:07:13.197621Z"
    }
   },
   "cell_type": "code",
   "source": [
    "# Extract the month from 'release_date_x' and create a new 'month' column\n",
    "merged_data['month'] = merged_data['release_date_x'].dt.month"
   ],
   "id": "5214f64d27e977b0",
   "outputs": [],
   "execution_count": 10
  },
  {
   "metadata": {
    "ExecuteTime": {
     "end_time": "2024-09-04T17:07:13.231400Z",
     "start_time": "2024-09-04T17:07:13.226818Z"
    }
   },
   "cell_type": "code",
   "source": [
    "# Drop duplicates based on 'title' and 'release_date'\n",
    "merged_data = merged_data.drop_duplicates(subset=['title', 'release_date_x'])"
   ],
   "id": "6c0d503e43f626f",
   "outputs": [],
   "execution_count": 11
  },
  {
   "metadata": {
    "ExecuteTime": {
     "end_time": "2024-09-04T17:07:13.266664Z",
     "start_time": "2024-09-04T17:07:13.257575Z"
    }
   },
   "cell_type": "code",
   "source": [
    "# Final merged dataset preview\n",
    "merged_data.head()"
   ],
   "id": "2f5533c6ac7434e1",
   "outputs": [
    {
     "data": {
      "text/plain": [
       "   Unnamed: 0            genre_ids   id_x original_language  \\\n",
       "0           1  [14, 12, 16, 10751]  10191                en   \n",
       "1           2        [12, 28, 878]  10138                en   \n",
       "2           3      [16, 35, 10751]    862                en   \n",
       "3           4        [28, 878, 12]  27205                en   \n",
       "4           5      [12, 14, 10751]  32657                en   \n",
       "\n",
       "                                      original_title  popularity  \\\n",
       "0                           How to Train Your Dragon      28.734   \n",
       "1                                         Iron Man 2      28.515   \n",
       "2                                          Toy Story      28.005   \n",
       "3                                          Inception      27.920   \n",
       "4  Percy Jackson & the Olympians: The Lightning T...      26.691   \n",
       "\n",
       "  release_date_x                                              title  \\\n",
       "0     2010-03-26                           How to Train Your Dragon   \n",
       "1     2010-05-07                                         Iron Man 2   \n",
       "2     1995-11-22                                          Toy Story   \n",
       "3     2010-07-16                                          Inception   \n",
       "4     2010-02-11  Percy Jackson & the Olympians: The Lightning T...   \n",
       "\n",
       "   vote_average  vote_count  id_y release_date_y  \\\n",
       "0           7.7        7610    30     2010-03-26   \n",
       "1           6.8       12368    15     2010-05-07   \n",
       "2           7.9       10174    37     1995-11-22   \n",
       "3           8.3       22186    38     2010-07-16   \n",
       "4           6.1        4229    17     2010-02-12   \n",
       "\n",
       "                                               movie  production_budget  \\\n",
       "0                           How to Train Your Dragon        165000000.0   \n",
       "1                                         Iron Man 2        170000000.0   \n",
       "2                                          Toy Story         30000000.0   \n",
       "3                                          Inception        160000000.0   \n",
       "4  Percy Jackson & the Olympians: The Lightning T...         95000000.0   \n",
       "\n",
       "   domestic_gross  worldwide_gross primary_genre  roi_domestic  roi_worldwide  \\\n",
       "0     217581232.0      494870992.0        Action      1.318674       2.999218   \n",
       "1     312433331.0      621156389.0        Action      1.837843       3.653861   \n",
       "2     191796233.0      364545516.0           NaN      6.393208      12.151517   \n",
       "3     292576195.0      835524642.0        Action      1.828601       5.222029   \n",
       "4      88768303.0      223050874.0     Adventure      0.934403       2.347904   \n",
       "\n",
       "   month  \n",
       "0      3  \n",
       "1      5  \n",
       "2     11  \n",
       "3      7  \n",
       "4      2  "
      ],
      "text/html": [
       "<div>\n",
       "<style scoped>\n",
       "    .dataframe tbody tr th:only-of-type {\n",
       "        vertical-align: middle;\n",
       "    }\n",
       "\n",
       "    .dataframe tbody tr th {\n",
       "        vertical-align: top;\n",
       "    }\n",
       "\n",
       "    .dataframe thead th {\n",
       "        text-align: right;\n",
       "    }\n",
       "</style>\n",
       "<table border=\"1\" class=\"dataframe\">\n",
       "  <thead>\n",
       "    <tr style=\"text-align: right;\">\n",
       "      <th></th>\n",
       "      <th>Unnamed: 0</th>\n",
       "      <th>genre_ids</th>\n",
       "      <th>id_x</th>\n",
       "      <th>original_language</th>\n",
       "      <th>original_title</th>\n",
       "      <th>popularity</th>\n",
       "      <th>release_date_x</th>\n",
       "      <th>title</th>\n",
       "      <th>vote_average</th>\n",
       "      <th>vote_count</th>\n",
       "      <th>id_y</th>\n",
       "      <th>release_date_y</th>\n",
       "      <th>movie</th>\n",
       "      <th>production_budget</th>\n",
       "      <th>domestic_gross</th>\n",
       "      <th>worldwide_gross</th>\n",
       "      <th>primary_genre</th>\n",
       "      <th>roi_domestic</th>\n",
       "      <th>roi_worldwide</th>\n",
       "      <th>month</th>\n",
       "    </tr>\n",
       "  </thead>\n",
       "  <tbody>\n",
       "    <tr>\n",
       "      <th>0</th>\n",
       "      <td>1</td>\n",
       "      <td>[14, 12, 16, 10751]</td>\n",
       "      <td>10191</td>\n",
       "      <td>en</td>\n",
       "      <td>How to Train Your Dragon</td>\n",
       "      <td>28.734</td>\n",
       "      <td>2010-03-26</td>\n",
       "      <td>How to Train Your Dragon</td>\n",
       "      <td>7.7</td>\n",
       "      <td>7610</td>\n",
       "      <td>30</td>\n",
       "      <td>2010-03-26</td>\n",
       "      <td>How to Train Your Dragon</td>\n",
       "      <td>165000000.0</td>\n",
       "      <td>217581232.0</td>\n",
       "      <td>494870992.0</td>\n",
       "      <td>Action</td>\n",
       "      <td>1.318674</td>\n",
       "      <td>2.999218</td>\n",
       "      <td>3</td>\n",
       "    </tr>\n",
       "    <tr>\n",
       "      <th>1</th>\n",
       "      <td>2</td>\n",
       "      <td>[12, 28, 878]</td>\n",
       "      <td>10138</td>\n",
       "      <td>en</td>\n",
       "      <td>Iron Man 2</td>\n",
       "      <td>28.515</td>\n",
       "      <td>2010-05-07</td>\n",
       "      <td>Iron Man 2</td>\n",
       "      <td>6.8</td>\n",
       "      <td>12368</td>\n",
       "      <td>15</td>\n",
       "      <td>2010-05-07</td>\n",
       "      <td>Iron Man 2</td>\n",
       "      <td>170000000.0</td>\n",
       "      <td>312433331.0</td>\n",
       "      <td>621156389.0</td>\n",
       "      <td>Action</td>\n",
       "      <td>1.837843</td>\n",
       "      <td>3.653861</td>\n",
       "      <td>5</td>\n",
       "    </tr>\n",
       "    <tr>\n",
       "      <th>2</th>\n",
       "      <td>3</td>\n",
       "      <td>[16, 35, 10751]</td>\n",
       "      <td>862</td>\n",
       "      <td>en</td>\n",
       "      <td>Toy Story</td>\n",
       "      <td>28.005</td>\n",
       "      <td>1995-11-22</td>\n",
       "      <td>Toy Story</td>\n",
       "      <td>7.9</td>\n",
       "      <td>10174</td>\n",
       "      <td>37</td>\n",
       "      <td>1995-11-22</td>\n",
       "      <td>Toy Story</td>\n",
       "      <td>30000000.0</td>\n",
       "      <td>191796233.0</td>\n",
       "      <td>364545516.0</td>\n",
       "      <td>NaN</td>\n",
       "      <td>6.393208</td>\n",
       "      <td>12.151517</td>\n",
       "      <td>11</td>\n",
       "    </tr>\n",
       "    <tr>\n",
       "      <th>3</th>\n",
       "      <td>4</td>\n",
       "      <td>[28, 878, 12]</td>\n",
       "      <td>27205</td>\n",
       "      <td>en</td>\n",
       "      <td>Inception</td>\n",
       "      <td>27.920</td>\n",
       "      <td>2010-07-16</td>\n",
       "      <td>Inception</td>\n",
       "      <td>8.3</td>\n",
       "      <td>22186</td>\n",
       "      <td>38</td>\n",
       "      <td>2010-07-16</td>\n",
       "      <td>Inception</td>\n",
       "      <td>160000000.0</td>\n",
       "      <td>292576195.0</td>\n",
       "      <td>835524642.0</td>\n",
       "      <td>Action</td>\n",
       "      <td>1.828601</td>\n",
       "      <td>5.222029</td>\n",
       "      <td>7</td>\n",
       "    </tr>\n",
       "    <tr>\n",
       "      <th>4</th>\n",
       "      <td>5</td>\n",
       "      <td>[12, 14, 10751]</td>\n",
       "      <td>32657</td>\n",
       "      <td>en</td>\n",
       "      <td>Percy Jackson &amp; the Olympians: The Lightning T...</td>\n",
       "      <td>26.691</td>\n",
       "      <td>2010-02-11</td>\n",
       "      <td>Percy Jackson &amp; the Olympians: The Lightning T...</td>\n",
       "      <td>6.1</td>\n",
       "      <td>4229</td>\n",
       "      <td>17</td>\n",
       "      <td>2010-02-12</td>\n",
       "      <td>Percy Jackson &amp; the Olympians: The Lightning T...</td>\n",
       "      <td>95000000.0</td>\n",
       "      <td>88768303.0</td>\n",
       "      <td>223050874.0</td>\n",
       "      <td>Adventure</td>\n",
       "      <td>0.934403</td>\n",
       "      <td>2.347904</td>\n",
       "      <td>2</td>\n",
       "    </tr>\n",
       "  </tbody>\n",
       "</table>\n",
       "</div>"
      ]
     },
     "execution_count": 12,
     "metadata": {},
     "output_type": "execute_result"
    }
   ],
   "execution_count": 12
  },
  {
   "metadata": {
    "ExecuteTime": {
     "end_time": "2024-09-04T17:07:13.333555Z",
     "start_time": "2024-09-04T17:07:13.318129Z"
    }
   },
   "cell_type": "code",
   "source": "merged_data.info()",
   "id": "113caf90b34f9877",
   "outputs": [
    {
     "name": "stdout",
     "output_type": "stream",
     "text": [
      "<class 'pandas.core.frame.DataFrame'>\n",
      "Index: 2124 entries, 0 to 4420\n",
      "Data columns (total 20 columns):\n",
      " #   Column             Non-Null Count  Dtype         \n",
      "---  ------             --------------  -----         \n",
      " 0   Unnamed: 0         2124 non-null   int64         \n",
      " 1   genre_ids          2124 non-null   object        \n",
      " 2   id_x               2124 non-null   int64         \n",
      " 3   original_language  2124 non-null   object        \n",
      " 4   original_title     2124 non-null   object        \n",
      " 5   popularity         2124 non-null   float64       \n",
      " 6   release_date_x     2124 non-null   datetime64[ns]\n",
      " 7   title              2124 non-null   object        \n",
      " 8   vote_average       2124 non-null   float64       \n",
      " 9   vote_count         2124 non-null   int64         \n",
      " 10  id_y               2124 non-null   int64         \n",
      " 11  release_date_y     2124 non-null   datetime64[ns]\n",
      " 12  movie              2124 non-null   object        \n",
      " 13  production_budget  2124 non-null   float64       \n",
      " 14  domestic_gross     2124 non-null   float64       \n",
      " 15  worldwide_gross    2124 non-null   float64       \n",
      " 16  primary_genre      1973 non-null   object        \n",
      " 17  roi_domestic       2124 non-null   float64       \n",
      " 18  roi_worldwide      2124 non-null   float64       \n",
      " 19  month              2124 non-null   int32         \n",
      "dtypes: datetime64[ns](2), float64(7), int32(1), int64(4), object(6)\n",
      "memory usage: 340.2+ KB\n"
     ]
    }
   ],
   "execution_count": 13
  },
  {
   "metadata": {
    "ExecuteTime": {
     "end_time": "2024-09-04T17:07:19.946450Z",
     "start_time": "2024-09-04T17:07:13.374264Z"
    }
   },
   "cell_type": "code",
   "source": [
    "# Looks like many of the genre values are missing. TMDB provides an API we can use to fill these in.\n",
    "\n",
    "merged_data = helper.update_missing_genres(merged_data)"
   ],
   "id": "1421adad204b6e8f",
   "outputs": [
    {
     "name": "stderr",
     "output_type": "stream",
     "text": [
      "Updating missing genres: 100%|██████████| 151/151 [00:06<00:00, 23.09it/s]\n"
     ]
    }
   ],
   "execution_count": 14
  },
  {
   "metadata": {
    "ExecuteTime": {
     "end_time": "2024-09-04T17:07:20.040554Z",
     "start_time": "2024-09-04T17:07:20.030782Z"
    }
   },
   "cell_type": "code",
   "source": "merged_data.info()",
   "id": "894ae26ec478fd85",
   "outputs": [
    {
     "name": "stdout",
     "output_type": "stream",
     "text": [
      "<class 'pandas.core.frame.DataFrame'>\n",
      "Index: 2124 entries, 0 to 4420\n",
      "Data columns (total 20 columns):\n",
      " #   Column             Non-Null Count  Dtype         \n",
      "---  ------             --------------  -----         \n",
      " 0   Unnamed: 0         2124 non-null   int64         \n",
      " 1   genre_ids          2124 non-null   object        \n",
      " 2   id_x               2124 non-null   int64         \n",
      " 3   original_language  2124 non-null   object        \n",
      " 4   original_title     2124 non-null   object        \n",
      " 5   popularity         2124 non-null   float64       \n",
      " 6   release_date_x     2124 non-null   datetime64[ns]\n",
      " 7   title              2124 non-null   object        \n",
      " 8   vote_average       2124 non-null   float64       \n",
      " 9   vote_count         2124 non-null   int64         \n",
      " 10  id_y               2124 non-null   int64         \n",
      " 11  release_date_y     2124 non-null   datetime64[ns]\n",
      " 12  movie              2124 non-null   object        \n",
      " 13  production_budget  2124 non-null   float64       \n",
      " 14  domestic_gross     2124 non-null   float64       \n",
      " 15  worldwide_gross    2124 non-null   float64       \n",
      " 16  primary_genre      2114 non-null   object        \n",
      " 17  roi_domestic       2124 non-null   float64       \n",
      " 18  roi_worldwide      2124 non-null   float64       \n",
      " 19  month              2124 non-null   int32         \n",
      "dtypes: datetime64[ns](2), float64(7), int32(1), int64(4), object(6)\n",
      "memory usage: 404.7+ KB\n"
     ]
    }
   ],
   "execution_count": 15
  },
  {
   "metadata": {
    "ExecuteTime": {
     "end_time": "2024-09-04T17:07:20.138052Z",
     "start_time": "2024-09-04T17:07:20.134297Z"
    }
   },
   "cell_type": "code",
   "source": [
    "# We were able to get genres for all but 10 of the movies, so I will drop those that are missing\n",
    "merged_data = merged_data.dropna(subset=['primary_genre'])"
   ],
   "id": "be5dc0ebac43efec",
   "outputs": [],
   "execution_count": 16
  },
  {
   "metadata": {
    "ExecuteTime": {
     "end_time": "2024-09-04T17:08:35.163502Z",
     "start_time": "2024-09-04T17:07:20.165404Z"
    }
   },
   "cell_type": "code",
   "source": [
    "# I would also like to take a look at movies that belong to a franchise to see if they perform differently than those that are 'one-offs'\n",
    "\n",
    "# Initialize the 'franchise' and 'collection' columns\n",
    "merged_data['franchise'] = False\n",
    "merged_data['collection'] = None\n",
    "\n",
    "# Update the franchise info for all movies\n",
    "merged_data = helper.update_franchise_info(merged_data)"
   ],
   "id": "65b74e31b73b18aa",
   "outputs": [
    {
     "name": "stderr",
     "output_type": "stream",
     "text": [
      "Updating franchise info: 100%|██████████| 2114/2114 [01:14<00:00, 28.19it/s]\n"
     ]
    }
   ],
   "execution_count": 17
  },
  {
   "metadata": {
    "ExecuteTime": {
     "end_time": "2024-09-04T17:08:35.289911Z",
     "start_time": "2024-09-04T17:08:35.271639Z"
    }
   },
   "cell_type": "code",
   "source": [
    "# Drop the redundant columns\n",
    "columns_to_drop = ['Unnamed: 0', 'genre_ids', 'original_title', 'id_y', 'release_date_y', 'movie']\n",
    "merged_data_cleaned = merged_data.drop(columns=columns_to_drop)\n",
    "\n",
    "# Rename columns as specified\n",
    "merged_data_cleaned = merged_data_cleaned.rename(columns={'id_x': 'tmdb_id', 'release_date_x': 'release_date', 'month': 'release_month'})\n",
    "\n",
    "# Preview the updated DataFrame\n",
    "merged_data_cleaned.head()\n"
   ],
   "id": "3435661abb76c143",
   "outputs": [
    {
     "data": {
      "text/plain": [
       "   tmdb_id original_language  popularity release_date  \\\n",
       "0    10191                en      28.734   2010-03-26   \n",
       "1    10138                en      28.515   2010-05-07   \n",
       "2      862                en      28.005   1995-11-22   \n",
       "3    27205                en      27.920   2010-07-16   \n",
       "4    32657                en      26.691   2010-02-11   \n",
       "\n",
       "                                               title  vote_average  \\\n",
       "0                           How to Train Your Dragon           7.7   \n",
       "1                                         Iron Man 2           6.8   \n",
       "2                                          Toy Story           7.9   \n",
       "3                                          Inception           8.3   \n",
       "4  Percy Jackson & the Olympians: The Lightning T...           6.1   \n",
       "\n",
       "   vote_count  production_budget  domestic_gross  worldwide_gross  \\\n",
       "0        7610        165000000.0     217581232.0      494870992.0   \n",
       "1       12368        170000000.0     312433331.0      621156389.0   \n",
       "2       10174         30000000.0     191796233.0      364545516.0   \n",
       "3       22186        160000000.0     292576195.0      835524642.0   \n",
       "4        4229         95000000.0      88768303.0      223050874.0   \n",
       "\n",
       "  primary_genre  roi_domestic  roi_worldwide  release_month  franchise  \\\n",
       "0        Action      1.318674       2.999218              3       True   \n",
       "1        Action      1.837843       3.653861              5       True   \n",
       "2     Animation      6.393208      12.151517             11       True   \n",
       "3        Action      1.828601       5.222029              7      False   \n",
       "4     Adventure      0.934403       2.347904              2       True   \n",
       "\n",
       "                            collection  \n",
       "0  How to Train Your Dragon Collection  \n",
       "1                  Iron Man Collection  \n",
       "2                 Toy Story Collection  \n",
       "3                                 None  \n",
       "4             Percy Jackson Collection  "
      ],
      "text/html": [
       "<div>\n",
       "<style scoped>\n",
       "    .dataframe tbody tr th:only-of-type {\n",
       "        vertical-align: middle;\n",
       "    }\n",
       "\n",
       "    .dataframe tbody tr th {\n",
       "        vertical-align: top;\n",
       "    }\n",
       "\n",
       "    .dataframe thead th {\n",
       "        text-align: right;\n",
       "    }\n",
       "</style>\n",
       "<table border=\"1\" class=\"dataframe\">\n",
       "  <thead>\n",
       "    <tr style=\"text-align: right;\">\n",
       "      <th></th>\n",
       "      <th>tmdb_id</th>\n",
       "      <th>original_language</th>\n",
       "      <th>popularity</th>\n",
       "      <th>release_date</th>\n",
       "      <th>title</th>\n",
       "      <th>vote_average</th>\n",
       "      <th>vote_count</th>\n",
       "      <th>production_budget</th>\n",
       "      <th>domestic_gross</th>\n",
       "      <th>worldwide_gross</th>\n",
       "      <th>primary_genre</th>\n",
       "      <th>roi_domestic</th>\n",
       "      <th>roi_worldwide</th>\n",
       "      <th>release_month</th>\n",
       "      <th>franchise</th>\n",
       "      <th>collection</th>\n",
       "    </tr>\n",
       "  </thead>\n",
       "  <tbody>\n",
       "    <tr>\n",
       "      <th>0</th>\n",
       "      <td>10191</td>\n",
       "      <td>en</td>\n",
       "      <td>28.734</td>\n",
       "      <td>2010-03-26</td>\n",
       "      <td>How to Train Your Dragon</td>\n",
       "      <td>7.7</td>\n",
       "      <td>7610</td>\n",
       "      <td>165000000.0</td>\n",
       "      <td>217581232.0</td>\n",
       "      <td>494870992.0</td>\n",
       "      <td>Action</td>\n",
       "      <td>1.318674</td>\n",
       "      <td>2.999218</td>\n",
       "      <td>3</td>\n",
       "      <td>True</td>\n",
       "      <td>How to Train Your Dragon Collection</td>\n",
       "    </tr>\n",
       "    <tr>\n",
       "      <th>1</th>\n",
       "      <td>10138</td>\n",
       "      <td>en</td>\n",
       "      <td>28.515</td>\n",
       "      <td>2010-05-07</td>\n",
       "      <td>Iron Man 2</td>\n",
       "      <td>6.8</td>\n",
       "      <td>12368</td>\n",
       "      <td>170000000.0</td>\n",
       "      <td>312433331.0</td>\n",
       "      <td>621156389.0</td>\n",
       "      <td>Action</td>\n",
       "      <td>1.837843</td>\n",
       "      <td>3.653861</td>\n",
       "      <td>5</td>\n",
       "      <td>True</td>\n",
       "      <td>Iron Man Collection</td>\n",
       "    </tr>\n",
       "    <tr>\n",
       "      <th>2</th>\n",
       "      <td>862</td>\n",
       "      <td>en</td>\n",
       "      <td>28.005</td>\n",
       "      <td>1995-11-22</td>\n",
       "      <td>Toy Story</td>\n",
       "      <td>7.9</td>\n",
       "      <td>10174</td>\n",
       "      <td>30000000.0</td>\n",
       "      <td>191796233.0</td>\n",
       "      <td>364545516.0</td>\n",
       "      <td>Animation</td>\n",
       "      <td>6.393208</td>\n",
       "      <td>12.151517</td>\n",
       "      <td>11</td>\n",
       "      <td>True</td>\n",
       "      <td>Toy Story Collection</td>\n",
       "    </tr>\n",
       "    <tr>\n",
       "      <th>3</th>\n",
       "      <td>27205</td>\n",
       "      <td>en</td>\n",
       "      <td>27.920</td>\n",
       "      <td>2010-07-16</td>\n",
       "      <td>Inception</td>\n",
       "      <td>8.3</td>\n",
       "      <td>22186</td>\n",
       "      <td>160000000.0</td>\n",
       "      <td>292576195.0</td>\n",
       "      <td>835524642.0</td>\n",
       "      <td>Action</td>\n",
       "      <td>1.828601</td>\n",
       "      <td>5.222029</td>\n",
       "      <td>7</td>\n",
       "      <td>False</td>\n",
       "      <td>None</td>\n",
       "    </tr>\n",
       "    <tr>\n",
       "      <th>4</th>\n",
       "      <td>32657</td>\n",
       "      <td>en</td>\n",
       "      <td>26.691</td>\n",
       "      <td>2010-02-11</td>\n",
       "      <td>Percy Jackson &amp; the Olympians: The Lightning T...</td>\n",
       "      <td>6.1</td>\n",
       "      <td>4229</td>\n",
       "      <td>95000000.0</td>\n",
       "      <td>88768303.0</td>\n",
       "      <td>223050874.0</td>\n",
       "      <td>Adventure</td>\n",
       "      <td>0.934403</td>\n",
       "      <td>2.347904</td>\n",
       "      <td>2</td>\n",
       "      <td>True</td>\n",
       "      <td>Percy Jackson Collection</td>\n",
       "    </tr>\n",
       "  </tbody>\n",
       "</table>\n",
       "</div>"
      ]
     },
     "execution_count": 18,
     "metadata": {},
     "output_type": "execute_result"
    }
   ],
   "execution_count": 18
  },
  {
   "metadata": {},
   "cell_type": "markdown",
   "source": [
    "## Modeling\n",
    "Here we will perform various statistical analyses via hypothesis testing, and linear regreassion modeling"
   ],
   "id": "ae64980d2c2eee0b"
  },
  {
   "metadata": {
    "ExecuteTime": {
     "end_time": "2024-09-04T17:08:35.364535Z",
     "start_time": "2024-09-04T17:08:35.329215Z"
    }
   },
   "cell_type": "code",
   "source": [
    "# Does genre significantly impact ROI?\n",
    "\n",
    "# H0 - Genre does not impact ROI\n",
    "# H1 - Genre does impact ROI\n",
    "\n",
    "# Domestic ROI\n",
    "\n",
    "# Drop missing values for the relevant columns\n",
    "genre_roi_data = merged_data_cleaned.dropna(subset=['primary_genre', 'roi_domestic', 'roi_worldwide'])\n",
    "\n",
    "# Group by primary genre and calculate the mean revenue for each genre\n",
    "genre_roi = genre_roi_data.groupby('primary_genre')['roi_domestic'].mean()\n",
    "\n",
    "# Perform ANOVA to test if the means are significantly different\n",
    "anova_results = stats.f_oneway(*[genre_roi_data[genre_roi_data['primary_genre'] == genre]['roi_domestic']\n",
    "                                 for genre in genre_roi.index])\n",
    "\n",
    "# Output the ANOVA results\n",
    "print(\"ANOVA Results for Genre Impact on Worldwide ROI:\")\n",
    "print(f\"F-statistic: {anova_results.statistic}, p-value: {anova_results.pvalue}\")\n",
    "\n",
    "# Interpretation\n",
    "if anova_results.pvalue < 0.05:\n",
    "    print(\"Reject the null hypothesis: There is a significant difference in domestic ROI across genres.\")\n",
    "else:\n",
    "    print(\"Fail to reject the null hypothesis: No significant difference in domestic ROI across genres.\")\n",
    "    \n",
    "# Worldwide ROI\n",
    "\n",
    "# Group by primary genre and calculate the mean revenue for each genre\n",
    "genre_roi = genre_roi_data.groupby('primary_genre')['roi_worldwide'].mean()\n",
    "\n",
    "# Perform ANOVA to test if the means are significantly different\n",
    "anova_results = stats.f_oneway(*[genre_roi_data[genre_roi_data['primary_genre'] == genre]['roi_worldwide']\n",
    "                                 for genre in genre_roi.index])\n",
    "\n",
    "# Output the ANOVA results\n",
    "print(\"ANOVA Results for Genre Impact on Worldwide ROI:\")\n",
    "print(f\"F-statistic: {anova_results.statistic}, p-value: {anova_results.pvalue}\")\n",
    "\n",
    "# Interpretation\n",
    "if anova_results.pvalue < 0.05:\n",
    "    print(\"Reject the null hypothesis: There is a significant difference in worldwide ROI across genres.\")\n",
    "else:\n",
    "    print(\"Fail to reject the null hypothesis: No significant difference in worldwide ROI across genres.\")\n",
    "    \n",
    "    "
   ],
   "id": "7d1b8bfe5921ecbf",
   "outputs": [
    {
     "name": "stdout",
     "output_type": "stream",
     "text": [
      "ANOVA Results for Genre Impact on Worldwide ROI:\n",
      "F-statistic: 3.6299154011564334, p-value: 5.016404509540143e-08\n",
      "Reject the null hypothesis: There is a significant difference in domestic ROI across genres.\n",
      "ANOVA Results for Genre Impact on Worldwide ROI:\n",
      "F-statistic: 4.249328207795131, p-value: 3.88690241691565e-10\n",
      "Reject the null hypothesis: There is a significant difference in worldwide ROI across genres.\n"
     ]
    }
   ],
   "execution_count": 19
  },
  {
   "metadata": {
    "ExecuteTime": {
     "end_time": "2024-09-04T17:08:35.521337Z",
     "start_time": "2024-09-04T17:08:35.511704Z"
    }
   },
   "cell_type": "code",
   "source": [
    "# Does being in a franchise impact ROI?\n",
    "\n",
    "# H0 - There is no difference in the average worldwide gross revenue between franchise and non-franchise movies.\n",
    "# H1 - There is a difference in the average worldwide gross revenue between franchise and non-franchise movies.\n",
    "\n",
    "# Split the data into two groups: franchise and non-franchise for worldwide ROI\n",
    "ww_franchise_movies = merged_data_cleaned[merged_data_cleaned['franchise'] == True]['roi_worldwide']\n",
    "ww_non_franchise_movies = merged_data_cleaned[merged_data_cleaned['franchise'] == False]['roi_worldwide']\n",
    "\n",
    "# Perform a t-test for worldwide ROI\n",
    "ww_t_stat, ww_p_value = stats.ttest_ind(ww_franchise_movies.dropna(), ww_non_franchise_movies.dropna(), equal_var=False)\n",
    "\n",
    "print(\"T-Test Results for Franchise Impact on Worldwide ROI:\")\n",
    "print(f\"T-statistic: {ww_t_stat}, p-value: {ww_p_value}\")\n",
    "\n",
    "if ww_p_value < 0.05:\n",
    "    print(\"Reject the null hypothesis: There is a significant difference in worldwide ROI for movies in a franchise.\")\n",
    "else:\n",
    "    print(\"Fail to reject the null hypothesis: There is NOT a significant difference in worldwide ROI for movies in a franchise.\")\n",
    "    \n",
    "# Split the data into two groups: franchise and non-franchise for domestic ROI\n",
    "d_franchise_movies = merged_data_cleaned[merged_data_cleaned['franchise'] == True]['roi_domestic']\n",
    "d_non_franchise_movies = merged_data_cleaned[merged_data_cleaned['franchise'] == False]['roi_domestic']\n",
    "\n",
    "# Perform a t-test for domestic ROI\n",
    "d_t_stat, d_p_value = stats.ttest_ind(d_franchise_movies.dropna(), d_non_franchise_movies.dropna(), equal_var=False)\n",
    "\n",
    "print(\"T-Test Results for Franchise Impact on Domestic ROI:\")\n",
    "print(f\"T-statistic: {d_t_stat}, p-value: {d_p_value}\")\n",
    "\n",
    "if d_p_value < 0.05:\n",
    "    print(\"Reject the null hypothesis: There is a significant difference in domestic ROI for movies in a franchise.\")\n",
    "else:\n",
    "    print(\"Fail to reject the null hypothesis: There is NOT a significant difference in domestic ROI for movies in a franchise.\")"
   ],
   "id": "f8950b0d4c41d174",
   "outputs": [
    {
     "name": "stdout",
     "output_type": "stream",
     "text": [
      "T-Test Results for Franchise Impact on Worldwide ROI:\n",
      "T-statistic: 3.797323557634855, p-value: 0.0001689329659322775\n",
      "Reject the null hypothesis: There is a significant difference in worldwide ROI for movies in a franchise.\n",
      "T-Test Results for Franchise Impact on Domestic ROI:\n",
      "T-statistic: 2.9288433848764943, p-value: 0.0035936269884244403\n",
      "Reject the null hypothesis: There is a significant difference in domestic ROI for movies in a franchise.\n"
     ]
    }
   ],
   "execution_count": 20
  },
  {
   "metadata": {
    "ExecuteTime": {
     "end_time": "2024-09-04T17:14:10.145554Z",
     "start_time": "2024-09-04T17:14:10.113001Z"
    }
   },
   "cell_type": "code",
   "source": [
    "# Does the time of year the movie is released in matter?\n",
    "\n",
    "# H0 - There is no significant difference in ROI based on which month the movie is released\n",
    "# H1 - There is a significant difference in ROI based on which month the movie is released\n",
    "\n",
    "# Group the data by release month for worldwide ROI\n",
    "ww_monthly_roi = merged_data_cleaned.groupby('release_month')['roi_worldwide'].apply(list)\n",
    "\n",
    "# Perform the ANOVA test\n",
    "ww_anova_result = stats.f_oneway(*[roi for roi in ww_monthly_roi])\n",
    "\n",
    "# Output the ANOVA results\n",
    "print(\"ANOVA Results for Release Month Impact on Worldwide ROI:\")\n",
    "print(f\"F-statistic: {ww_anova_result.statistic}, p-value: {ww_anova_result.pvalue}\")\n",
    "\n",
    "# Interpretation\n",
    "if ww_anova_result.pvalue < 0.05:\n",
    "    print(\"Reject the null hypothesis: There is a significant difference in worldwide ROI across release month.\")\n",
    "else:\n",
    "    print(\"Fail to reject the null hypothesis: No significant difference in worldwide ROI across release month.\")\n",
    "\n",
    "# Group the data by release month for domestic ROI\n",
    "d_monthly_roi = merged_data_cleaned.groupby('release_month')['roi_domestic'].apply(list)\n",
    "\n",
    "# Perform the ANOVA test\n",
    "d_anova_result = stats.f_oneway(*[roi for roi in d_monthly_roi])\n",
    "\n",
    "# Output the ANOVA results\n",
    "print(\"ANOVA Results for Release Month Impact on Domestic ROI:\")\n",
    "print(f\"F-statistic: {d_anova_result.statistic}, p-value: {d_anova_result.pvalue}\")\n",
    "\n",
    "# Interpretation\n",
    "if d_anova_result.pvalue < 0.05:\n",
    "    print(\"Reject the null hypothesis: There is a significant difference in domestic ROI across release month.\")\n",
    "else:\n",
    "    print(\"Fail to reject the null hypothesis: No significant difference in domestic ROI across release month.\")\n"
   ],
   "id": "a1793364dd03465c",
   "outputs": [
    {
     "name": "stdout",
     "output_type": "stream",
     "text": [
      "ANOVA Results for Release Month Impact on Worldwide ROI:\n",
      "F-statistic: 1.4252451648435245, p-value: 0.15451297079742496\n",
      "Fail to reject the null hypothesis: No significant difference in worldwide ROI across release month.\n",
      "ANOVA Results for Release Month Impact on Domestic ROI:\n",
      "F-statistic: 1.1625733712012765, p-value: 0.3081616903528722\n",
      "Fail to reject the null hypothesis: No significant difference in domestic ROI across release month.\n"
     ]
    }
   ],
   "execution_count": 30
  },
  {
   "metadata": {
    "ExecuteTime": {
     "end_time": "2024-09-04T17:22:58.807850Z",
     "start_time": "2024-09-04T17:22:58.777093Z"
    }
   },
   "cell_type": "code",
   "source": [
    "# Does production budget impact ROI or Gross?\n",
    "\n",
    "# H0a - Production budget does not have a significant impact on ROI\n",
    "# H1a - Production budget has a significant impact on ROI\n",
    "# H0b - Production budget does not have a significant impact on gross\n",
    "# H1b - Production budget has a significant impact on gross\n",
    "\n",
    "# Linear regression for domestic ROI\n",
    "slope_dom_roi, intercept_dom_roi, r_value_dom_roi, p_value_dom_roi, std_err_dom_roi = stats.linregress(\n",
    "    merged_data_cleaned['production_budget'], merged_data_cleaned['roi_domestic'])\n",
    "\n",
    "print(f\"Domestic ROI Regression Results:\")\n",
    "print(f\"Slope: {slope_dom_roi}\")\n",
    "print(f\"Intercept: {intercept_dom_roi}\")\n",
    "print(f\"R-squared: {r_value_dom_roi**2}\")\n",
    "print(f\"P-value: {p_value_dom_roi}\\n\")\n",
    "\n",
    "# Linear regression for domestic gross\n",
    "slope_dom_gross, intercept_dom_gross, r_value_dom_gross, p_value_dom_gross, std_err_dom_gross = stats.linregress(\n",
    "    merged_data_cleaned['production_budget'], merged_data_cleaned['domestic_gross'])\n",
    "\n",
    "print(f\"Domestic Gross Regression Results:\")\n",
    "print(f\"Slope: {slope_dom_gross}\")\n",
    "print(f\"Intercept: {intercept_dom_gross}\")\n",
    "print(f\"R-squared: {r_value_dom_gross**2}\")\n",
    "print(f\"P-value: {p_value_dom_gross}\\n\")\n",
    "\n",
    "# Linear regression for worldwide ROI\n",
    "slope_world_roi, intercept_world_roi, r_value_world_roi, p_value_world_roi, std_err_world_roi = stats.linregress(\n",
    "    merged_data_cleaned['production_budget'], merged_data_cleaned['roi_worldwide'])\n",
    "\n",
    "print(f\"Worldwide ROI Regression Results:\")\n",
    "print(f\"Slope: {slope_world_roi}\")\n",
    "print(f\"Intercept: {intercept_world_roi}\")\n",
    "print(f\"R-squared: {r_value_world_roi**2}\")\n",
    "print(f\"P-value: {p_value_world_roi}\\n\")\n",
    "\n",
    "# Linear regression for worldwide gross\n",
    "slope_world_gross, intercept_world_gross, r_value_world_gross, p_value_world_gross, std_err_world_gross = stats.linregress(\n",
    "    merged_data_cleaned['production_budget'], merged_data_cleaned['worldwide_gross'])\n",
    "\n",
    "print(f\"Worldwide Gross Regression Results:\")\n",
    "print(f\"Slope: {slope_world_gross}\")\n",
    "print(f\"Intercept: {intercept_world_gross}\")\n",
    "print(f\"R-squared: {r_value_world_gross**2}\")\n",
    "print(f\"P-value: {p_value_world_gross}\\n\")\n"
   ],
   "id": "76b0185fff60bd10",
   "outputs": [
    {
     "name": "stdout",
     "output_type": "stream",
     "text": [
      "Domestic ROI Regression Results:\n",
      "Slope: -9.622155887079312e-09\n",
      "Intercept: 2.3242254344926367\n",
      "R-squared: 0.005510687712702002\n",
      "P-value: 0.0006358440802301604\n",
      "\n",
      "Domestic Gross Regression Results:\n",
      "Slope: 1.169715934925598\n",
      "Intercept: 4353189.260108948\n",
      "R-squared: 0.5370973593379069\n",
      "P-value: 0.0\n",
      "\n",
      "Worldwide ROI Regression Results:\n",
      "Slope: -7.86202850726377e-09\n",
      "Intercept: 3.9838429163431135\n",
      "R-squared: 0.001266393693980641\n",
      "P-value: 0.10189147507521298\n",
      "\n",
      "Worldwide Gross Regression Results:\n",
      "Slope: 3.467976689697516\n",
      "Intercept: -12830191.121621355\n",
      "R-squared: 0.6386219655522728\n",
      "P-value: 0.0\n",
      "\n"
     ]
    }
   ],
   "execution_count": 35
  },
  {
   "metadata": {
    "ExecuteTime": {
     "end_time": "2024-09-04T17:54:31.827401Z",
     "start_time": "2024-09-04T17:54:31.661304Z"
    }
   },
   "cell_type": "code",
   "source": [
    "# Step 1: Merge IMDb data (directors, actors, writers) with the merged_data_cleaned\n",
    "# First, merge directors_cleaned with merged_data_cleaned using the movie title\n",
    "directors_merged = pd.merge(directors_cleaned, merged_data_cleaned, left_on='primary_title', right_on='title', how='inner')\n",
    "actors_merged = pd.merge(actors_cleaned, merged_data_cleaned, left_on='primary_title', right_on='title', how='inner')\n",
    "writers_merged = pd.merge(writers_cleaned, merged_data_cleaned, left_on='primary_title', right_on='title', how='inner')\n",
    "\n",
    "# Step 2: Clean up merged data (drop unnecessary columns)\n",
    "directors_merged = directors_merged[['primary_name', 'title', 'production_budget', 'domestic_gross', 'worldwide_gross', 'roi_domestic', 'roi_worldwide']]\n",
    "actors_merged = actors_merged[['primary_name', 'title', 'production_budget', 'domestic_gross', 'worldwide_gross', 'roi_domestic', 'roi_worldwide']]\n",
    "writers_merged = writers_merged[['primary_name', 'title', 'production_budget', 'domestic_gross', 'worldwide_gross', 'roi_domestic', 'roi_worldwide']]\n",
    "\n",
    "# Step 3: Calculate ROI for each director, actor, and writer\n",
    "# Group by primary_name (which represents directors, actors, or writers) and calculate the average ROI\n",
    "\n",
    "# Directors\n",
    "director_roi = directors_merged.groupby('primary_name').agg({\n",
    "    'roi_domestic': 'mean',\n",
    "    'roi_worldwide': 'mean'\n",
    "}).reset_index()\n",
    "\n",
    "# Actors\n",
    "actor_roi = actors_merged.groupby('primary_name').agg({\n",
    "    'roi_domestic': 'mean',\n",
    "    'roi_worldwide': 'mean'\n",
    "}).reset_index()\n",
    "\n",
    "# Writers\n",
    "writer_roi = writers_merged.groupby('primary_name').agg({\n",
    "    'roi_domestic': 'mean',\n",
    "    'roi_worldwide': 'mean'\n",
    "}).reset_index()\n",
    "\n",
    "# Step 4: Get the top 100 directors, actors, and writers based on frequency in the dataset\n",
    "top_100_directors = directors_merged['primary_name'].value_counts().head(100).index\n",
    "top_100_actors = actors_merged['primary_name'].value_counts().head(100).index\n",
    "top_100_writers = writers_merged['primary_name'].value_counts().head(100).index\n",
    "\n",
    "# Step 5: Filter the data for the top 100 of each\n",
    "top_directors_data = directors_merged[directors_merged['primary_name'].isin(top_100_directors)]\n",
    "top_actors_data = actors_merged[actors_merged['primary_name'].isin(top_100_actors)]\n",
    "top_writers_data = writers_merged[writers_merged['primary_name'].isin(top_100_writers)]\n",
    "\n",
    "# Step 6: Perform ANOVA to test for significant differences in ROI\n",
    "\n",
    "# Domestic ROI - Directors\n",
    "anova_directors_domestic = stats.f_oneway(*[top_directors_data[top_directors_data['primary_name'] == name]['roi_domestic'].dropna()\n",
    "                                            for name in top_100_directors])\n",
    "# Worldwide ROI - Directors\n",
    "anova_directors_worldwide = stats.f_oneway(*[top_directors_data[top_directors_data['primary_name'] == name]['roi_worldwide'].dropna()\n",
    "                                             for name in top_100_directors])\n",
    "\n",
    "# Domestic ROI - Actors\n",
    "anova_actors_domestic = stats.f_oneway(*[top_actors_data[top_actors_data['primary_name'] == name]['roi_domestic'].dropna()\n",
    "                                         for name in top_100_actors])\n",
    "# Worldwide ROI - Actors\n",
    "anova_actors_worldwide = stats.f_oneway(*[top_actors_data[top_actors_data['primary_name'] == name]['roi_worldwide'].dropna()\n",
    "                                          for name in top_100_actors])\n",
    "\n",
    "# Domestic ROI - Writers\n",
    "anova_writers_domestic = stats.f_oneway(*[top_writers_data[top_writers_data['primary_name'] == name]['roi_domestic'].dropna()\n",
    "                                          for name in top_100_writers])\n",
    "# Worldwide ROI - Writers\n",
    "anova_writers_worldwide = stats.f_oneway(*[top_writers_data[top_writers_data['primary_name'] == name]['roi_worldwide'].dropna()\n",
    "                                           for name in top_100_writers])\n",
    "\n",
    "# Step 7: Output the results\n",
    "print(\"ANOVA Results for Directors' Domestic ROI:\", anova_directors_domestic)\n",
    "print(\"ANOVA Results for Directors' Worldwide ROI:\", anova_directors_worldwide)\n",
    "\n",
    "print(\"ANOVA Results for Actors' Domestic ROI:\", anova_actors_domestic)\n",
    "print(\"ANOVA Results for Actors' Worldwide ROI:\", anova_actors_worldwide)\n",
    "\n",
    "print(\"ANOVA Results for Writers' Domestic ROI:\", anova_writers_domestic)\n",
    "print(\"ANOVA Results for Writers' Worldwide ROI:\", anova_writers_worldwide)\n"
   ],
   "id": "3dde59425c529702",
   "outputs": [
    {
     "name": "stdout",
     "output_type": "stream",
     "text": [
      "ANOVA Results for Directors' Domestic ROI: F_onewayResult(statistic=14.996365195373162, pvalue=8.475163314580624e-05)\n",
      "ANOVA Results for Directors' Worldwide ROI: F_onewayResult(statistic=22.773717219842215, pvalue=1.4241149622437874e-05)\n",
      "ANOVA Results for Actors' Domestic ROI: F_onewayResult(statistic=11.827479719273153, pvalue=1.1402734189294211e-08)\n",
      "ANOVA Results for Actors' Worldwide ROI: F_onewayResult(statistic=9.629921618413185, pvalue=8.680015692646687e-08)\n",
      "ANOVA Results for Writers' Domestic ROI: F_onewayResult(statistic=18.14730069581602, pvalue=3.926079241418945e-12)\n",
      "ANOVA Results for Writers' Worldwide ROI: F_onewayResult(statistic=22.874840124288983, pvalue=2.2964090536799665e-13)\n"
     ]
    }
   ],
   "execution_count": 40
  },
  {
   "metadata": {},
   "cell_type": "markdown",
   "source": [
    "## Evaluation\n",
    "\n",
    "### 1. Genre Impact on ROI\n",
    "\n",
    "- **ANOVA Results for Domestic ROI:**\n",
    "  - **F-statistic**: 3.630\n",
    "  - **P-value**: 5.02e-08\n",
    "  - **Conclusion**: We **reject the null hypothesis**. There is a significant difference in **domestic ROI** across genres.\n",
    "  \n",
    "- **ANOVA Results for Worldwide ROI:**\n",
    "  - **F-statistic**: 4.249\n",
    "  - **P-value**: 3.89e-10\n",
    "  - **Conclusion**: We **reject the null hypothesis**. There is a significant difference in **worldwide ROI** across genres."
   ],
   "id": "d595621ed816f26d"
  },
  {
   "metadata": {
    "ExecuteTime": {
     "end_time": "2024-09-04T20:26:54.735583Z",
     "start_time": "2024-09-04T20:26:54.021668Z"
    }
   },
   "cell_type": "code",
   "source": [
    "# Create a figure and axis for Domestic ROI by Genre\n",
    "fig, ax = plt.subplots(figsize=(12, 6))\n",
    "\n",
    "# Group the data by primary genre and calculate the mean Domestic ROI\n",
    "genre_domestic_roi = merged_data_cleaned.groupby('primary_genre')['roi_domestic'].mean().dropna().sort_values(ascending=False)\n",
    "\n",
    "# Plot the bar chart for Domestic ROI by Genre\n",
    "sns.barplot(x=genre_domestic_roi.index, y=genre_domestic_roi.values, ax=ax)\n",
    "ax.set_title('Average Domestic ROI by Genre')\n",
    "ax.set_xlabel('Genre')\n",
    "ax.set_ylabel('Average Domestic ROI')\n",
    "\n",
    "plt.xticks(rotation=45)\n",
    "\n",
    "# Adjust layout to fit the labels\n",
    "plt.tight_layout()\n",
    "plt.show()"
   ],
   "id": "1b4df6caf6a1942f",
   "outputs": [
    {
     "data": {
      "text/plain": [
       "<Figure size 1200x600 with 1 Axes>"
      ],
      "image/png": "[encoded data removed]"
     },
     "metadata": {},
     "output_type": "display_data"
    }
   ],
   "execution_count": 46
  },
  {
   "metadata": {
    "ExecuteTime": {
     "end_time": "2024-09-04T20:27:38.154201Z",
     "start_time": "2024-09-04T20:27:37.953737Z"
    }
   },
   "cell_type": "code",
   "source": [
    "# Create a figure and axis for Domestic ROI by Genre\n",
    "fig, ax = plt.subplots(figsize=(12, 6))\n",
    "\n",
    "# Group the data by primary genre and calculate the mean Domestic ROI\n",
    "genre_domestic_roi = merged_data_cleaned.groupby('primary_genre')['roi_worldwide'].mean().dropna().sort_values(ascending=False)\n",
    "\n",
    "# Plot the bar chart for Domestic ROI by Genre\n",
    "sns.barplot(x=genre_domestic_roi.index, y=genre_domestic_roi.values, ax=ax)\n",
    "ax.set_title('Average Worldwide ROI by Genre')\n",
    "ax.set_xlabel('Genre')\n",
    "ax.set_ylabel('Average Worldwide ROI')\n",
    "\n",
    "plt.xticks(rotation=45)\n",
    "\n",
    "# Adjust layout to fit the labels\n",
    "plt.tight_layout()\n",
    "plt.show()"
   ],
   "id": "9a81ce7b3d3a1087",
   "outputs": [
    {
     "data": {
      "text/plain": [
       "<Figure size 1200x600 with 1 Axes>"
      ],
      "image/png": "[encoded data removed]"
     },
     "metadata": {},
     "output_type": "display_data"
    }
   ],
   "execution_count": 47
  },
  {
   "metadata": {},
   "cell_type": "markdown",
   "source": [
    "\n",
    "### 2. Franchise Impact on ROI\n",
    "\n",
    "- **T-Test Results for Franchise Impact on Domestic ROI:**\n",
    "  - **T-statistic**: 2.929\n",
    "  - **P-value**: 0.0036\n",
    "  - **Conclusion**: We **reject the null hypothesis**. There is a significant difference in **domestic ROI** for movies in a franchise vs. those not in a franchise.\n",
    "  \n",
    "- **T-Test Results for Franchise Impact on Worldwide ROI:**\n",
    "  - **T-statistic**: 3.797\n",
    "  - **P-value**: 0.00017\n",
    "  - **Conclusion**: We **reject the null hypothesis**. There is a significant difference in **worldwide ROI** for movies in a franchise vs. those not in a franchise."
   ],
   "id": "7dc0b7a1f73ab2ce"
  },
  {
   "metadata": {},
   "cell_type": "markdown",
   "source": [
    "\n",
    "### 3. Release Month Impact on ROI\n",
    "\n",
    "- **ANOVA Results for Domestic ROI:**\n",
    "  - **F-statistic**: 1.163\n",
    "  - **P-value**: 0.3082\n",
    "  - **Conclusion**: We **fail to reject the null hypothesis**. There is **no significant difference** in **domestic ROI** across release months.\n",
    "  \n",
    "- **ANOVA Results for Worldwide ROI:**\n",
    "  - **F-statistic**: 1.425\n",
    "  - **P-value**: 0.1545\n",
    "  - **Conclusion**: We **fail to reject the null hypothesis**. There is **no significant difference** in **worldwide ROI** across release months."
   ],
   "id": "4e6b92c26adb0dce"
  },
  {
   "metadata": {},
   "cell_type": "markdown",
   "source": [
    "\n",
    "### 4. Impact of Production Budget on ROI and Gross Revenue\n",
    "\n",
    "- **Domestic ROI Regression Results:**\n",
    "  - **Slope**: -9.62e-09\n",
    "  - **Intercept**: 2.324\n",
    "  - **R-squared**: 0.0055\n",
    "  - **P-value**: 0.0006\n",
    "  - **Conclusion**: There is a very small **negative correlation** between **production budget** and **domestic ROI**, but the effect size is minimal.\n",
    "\n",
    "- **Domestic Gross Regression Results:**\n",
    "  - **Slope**: 1.170\n",
    "  - **Intercept**: 4,353,189\n",
    "  - **R-squared**: 0.537\n",
    "  - **P-value**: 0.0\n",
    "  - **Conclusion**: There is a **positive and significant correlation** between **production budget** and **domestic gross revenue**.\n",
    "\n",
    "- **Worldwide ROI Regression Results:**\n",
    "  - **Slope**: -7.86e-09\n",
    "  - **Intercept**: 3.984\n",
    "  - **R-squared**: 0.0013\n",
    "  - **P-value**: 0.1019\n",
    "  - **Conclusion**: There is no significant relationship between **production budget** and **worldwide ROI**.\n",
    "\n",
    "- **Worldwide Gross Regression Results:**\n",
    "  - **Slope**: 3.468\n",
    "  - **Intercept**: -12,830,191\n",
    "  - **R-squared**: 0.639\n",
    "  - **P-value**: 0.0\n",
    "  - **Conclusion**: There is a **strong positive correlation** between **production budget** and **worldwide gross revenue**."
   ],
   "id": "c7c034f4c835e244"
  },
  {
   "metadata": {},
   "cell_type": "markdown",
   "source": [
    "\n",
    "### 5. Director, Actor, and Writer Impact on ROI\n",
    "\n",
    "- **ANOVA Results for Directors' Domestic ROI:**\n",
    "  - **F-statistic**: 14.996\n",
    "  - **P-value**: 8.48e-05\n",
    "  - **Conclusion**: We **reject the null hypothesis**. There is a significant difference in **domestic ROI** based on different directors.\n",
    "  \n",
    "- **ANOVA Results for Directors' Worldwide ROI:**\n",
    "  - **F-statistic**: 22.774\n",
    "  - **P-value**: 1.42e-05\n",
    "  - **Conclusion**: We **reject the null hypothesis**. There is a significant difference in **worldwide ROI** based on different directors.\n",
    "\n",
    "- **ANOVA Results for Actors' Domestic ROI:**\n",
    "  - **F-statistic**: 11.827\n",
    "  - **P-value**: 1.14e-08\n",
    "  - **Conclusion**: We **reject the null hypothesis**. There is a significant difference in **domestic ROI** based on different actors.\n",
    "  \n",
    "- **ANOVA Results for Actors' Worldwide ROI:**\n",
    "  - **F-statistic**: 9.630\n",
    "  - **P-value**: 8.68e-08\n",
    "  - **Conclusion**: We **reject the null hypothesis**. There is a significant difference in **worldwide ROI** based on different actors.\n",
    "\n",
    "- **ANOVA Results for Writers' Domestic ROI:**\n",
    "  - **F-statistic**: 18.147\n",
    "  - **P-value**: 3.93e-12\n",
    "  - **Conclusion**: We **reject the null hypothesis**. There is a significant difference in **domestic ROI** based on different writers.\n",
    "  \n",
    "- **ANOVA Results for Writers' Worldwide ROI:**\n",
    "  - **F-statistic**: 22.875\n",
    "  - **P-value**: 2.30e-13\n",
    "  - **Conclusion**: We **reject the null hypothesis**. There is a significant difference in **worldwide ROI** based on different writers."
   ],
   "id": "35063a471d00ebec"
  },
  {
   "metadata": {},
   "cell_type": "markdown",
   "source": [
    "\n",
    "### Summary\n",
    "\n",
    "From the analysis, we can conclude the following:\n",
    "1. **Genre** and **franchise** significantly impact both **domestic and worldwide ROI**.\n",
    "2. **Release month** does not seem to have a significant impact on ROI.\n",
    "3. **Production budget** has a **positive impact** on gross revenue but a minimal effect on ROI.\n",
    "4. The **choice of director, actor, or writer** plays a **significant role** in the financial success of a movie as measured by ROI.\n"
   ],
   "id": "41d27329b6f3e151"
  },
  {
   "metadata": {
    "ExecuteTime": {
     "end_time": "2024-09-04T17:54:31.916412Z",
     "start_time": "2024-09-04T17:54:31.913747Z"
    }
   },
   "cell_type": "code",
   "source": "",
   "id": "89d39cb7d17b438a",
   "outputs": [],
   "execution_count": null
  }
 ],
 "metadata": {
  "kernelspec": {
   "display_name": "Python 3",
   "language": "python",
   "name": "python3"
  },
  "language_info": {
   "codemirror_mode": {
    "name": "ipython",
    "version": 2
   },
   "file_extension": ".py",
   "mimetype": "text/x-python",
   "name": "python",
   "nbconvert_exporter": "python",
   "pygments_lexer": "ipython2",
   "version": "2.7.6"
  }
 },
 "nbformat": 4,
 "nbformat_minor": 5
}
