{
 "cells": [
  {
   "cell_type": "code",
   "id": "83d07045a97fae02",
   "metadata": {
    "ExecuteTime": {
     "end_time": "2024-09-07T16:36:07.196951Z",
     "start_time": "2024-09-07T16:36:07.132910Z"
    }
   },
   "source": [
    "import requests\n",
    "import pandas as pd\n",
    "import time\n",
    "from dotenv import load_dotenv\n",
    "import os"
   ],
   "outputs": [],
   "execution_count": 2
  },
  {
   "metadata": {
    "ExecuteTime": {
     "end_time": "2024-09-07T16:36:07.295393Z",
     "start_time": "2024-09-07T16:36:07.292421Z"
    }
   },
   "cell_type": "code",
   "source": [
    "# Load environment variables from .env file\n",
    "load_dotenv()\n",
    "\n",
    "# Set your TMDB API key from the .env file\n",
    "api_key = os.getenv('TMDB_API_KEY')"
   ],
   "id": "f9ffb93660229ad5",
   "outputs": [],
   "execution_count": 3
  },
  {
   "metadata": {
    "ExecuteTime": {
     "end_time": "2024-09-07T16:36:07.492845Z",
     "start_time": "2024-09-07T16:36:07.489579Z"
    }
   },
   "cell_type": "code",
   "source": [
    "# Function to fetch credits from TMDB API\n",
    "def get_movie_credits(movie_id, api_key):\n",
    "    url = f\"https://api.themoviedb.org/3/movie/{movie_id}/credits?language=en-US\"\n",
    "    headers = {\n",
    "        \"accept\": \"application/json\",\n",
    "        \"Authorization\": f\"Bearer {api_key}\"\n",
    "    }\n",
    "\n",
    "    while True:  # Loop to handle rate limiting retries\n",
    "        try:\n",
    "            response = requests.get(url, headers=headers)\n",
    "            if response.status_code == 200:\n",
    "                return response.json()\n",
    "            elif response.status_code == 429:\n",
    "                print(f\"Rate limit exceeded. Sleeping for 2 seconds...\")\n",
    "                time.sleep(2)  # Wait for a while before retrying\n",
    "            else:\n",
    "                print(f\"Failed to fetch data for movie ID {movie_id}, status code: {response.status_code}\")\n",
    "                return None\n",
    "        except Exception as e:\n",
    "            print(f\"Error fetching credits for movie ID {movie_id}: {e}\")\n",
    "            return None"
   ],
   "id": "98a2d2ef328828c9",
   "outputs": [],
   "execution_count": 4
  },
  {
   "metadata": {
    "ExecuteTime": {
     "end_time": "2024-09-07T16:36:09.096485Z",
     "start_time": "2024-09-07T16:36:09.089714Z"
    }
   },
   "cell_type": "code",
   "source": [
    "# Function to process the credits and append relevant information to DataFrames\n",
    "def process_credits(movie_id, movie_title, production_budget, domestic_gross, roi_domestic, worldwide_gross, roi_worldwide, api_key):\n",
    "    credits = get_movie_credits(movie_id, api_key)\n",
    "\n",
    "    directors = []\n",
    "    actors = []\n",
    "    writers = []\n",
    "    producers = []\n",
    "\n",
    "    if credits:\n",
    "        # Extract directors\n",
    "        for person in credits['crew']:\n",
    "            if person['job'] == 'Director':\n",
    "                directors.append(person['name'])\n",
    "            elif person['job'] == 'Producer':\n",
    "                producers.append(person['name'])\n",
    "            elif person['department'] == 'Writing':\n",
    "                writers.append(person['name'])\n",
    "\n",
    "        # Extract actors (limit to top 5)\n",
    "        for person in credits['cast'][:5]:\n",
    "            actors.append(person['name'])\n",
    "\n",
    "    # Create a dictionary for each role\n",
    "    directors_data = [{'movie_title': movie_title, 'person_name': director, 'production_budget': production_budget,\n",
    "                       'domestic_gross': domestic_gross, 'roi_domestic': roi_domestic,\n",
    "                       'worldwide_gross': worldwide_gross, 'roi_worldwide': roi_worldwide, 'movie_id': movie_id}\n",
    "                      for director in directors]\n",
    "\n",
    "    actors_data = [{'movie_title': movie_title, 'person_name': actor, 'production_budget': production_budget,\n",
    "                    'domestic_gross': domestic_gross, 'roi_domestic': roi_domestic,\n",
    "                    'worldwide_gross': worldwide_gross, 'roi_worldwide': roi_worldwide, 'movie_id': movie_id}\n",
    "                   for actor in actors]\n",
    "\n",
    "    writers_data = [{'movie_title': movie_title, 'person_name': writer, 'production_budget': production_budget,\n",
    "                     'domestic_gross': domestic_gross, 'roi_domestic': roi_domestic,\n",
    "                     'worldwide_gross': worldwide_gross, 'roi_worldwide': roi_worldwide, 'movie_id': movie_id}\n",
    "                    for writer in writers]\n",
    "\n",
    "    producers_data = [{'movie_title': movie_title, 'person_name': producer, 'production_budget': production_budget,\n",
    "                       'domestic_gross': domestic_gross, 'roi_domestic': roi_domestic,\n",
    "                       'worldwide_gross': worldwide_gross, 'roi_worldwide': roi_worldwide, 'movie_id': movie_id}\n",
    "                      for producer in producers]\n",
    "\n",
    "    return directors_data, actors_data, writers_data, producers_data"
   ],
   "id": "b6884876efae3f3a",
   "outputs": [],
   "execution_count": 5
  },
  {
   "metadata": {
    "ExecuteTime": {
     "end_time": "2024-09-07T16:36:09.870184Z",
     "start_time": "2024-09-07T16:36:09.857295Z"
    }
   },
   "cell_type": "code",
   "source": [
    "# Loading in merged_data_cleaned.csv\n",
    "merged_data_cleaned = pd.read_csv('merged_data_cleaned.csv')"
   ],
   "id": "dcdfd0c3d9677275",
   "outputs": [],
   "execution_count": 6
  },
  {
   "metadata": {
    "collapsed": true,
    "ExecuteTime": {
     "end_time": "2024-09-07T16:44:07.044155Z",
     "start_time": "2024-09-07T16:36:17.892042Z"
    }
   },
   "cell_type": "code",
   "source": [
    "# Initialize empty lists to hold all data\n",
    "all_directors = []\n",
    "all_actors = []\n",
    "all_writers = []\n",
    "all_producers = []\n",
    "\n",
    "# Iterate over the merged data\n",
    "for index, row in merged_data_cleaned.iterrows():\n",
    "    movie_id = row['tmdb_id']\n",
    "    movie_title = row['title']\n",
    "    production_budget = row['production_budget']\n",
    "    domestic_gross = row['domestic_gross']\n",
    "    roi_domestic = row['roi_domestic']\n",
    "    worldwide_gross = row['worldwide_gross']\n",
    "    roi_worldwide = row['roi_worldwide']\n",
    "\n",
    "    # Fetch credits and append to respective lists\n",
    "    directors_data, actors_data, writers_data, producers_data = process_credits(movie_id, movie_title, production_budget, domestic_gross, roi_domestic, worldwide_gross, roi_worldwide, api_key)\n",
    "\n",
    "    all_directors.extend(directors_data)\n",
    "    all_actors.extend(actors_data)\n",
    "    all_writers.extend(writers_data)\n",
    "    all_producers.extend(producers_data)\n",
    "\n",
    "# Convert lists to DataFrames\n",
    "directors_df = pd.DataFrame(all_directors)\n",
    "actors_df = pd.DataFrame(all_actors)\n",
    "writers_df = pd.DataFrame(all_writers)\n",
    "producers_df = pd.DataFrame(all_producers)\n",
    "\n",
    "# Save DataFrames to CSV\n",
    "directors_df.to_csv('apiData/directors_data.csv', index=False)\n",
    "actors_df.to_csv('apiData/actors_data.csv', index=False)\n",
    "writers_df.to_csv('apiData/writers_data.csv', index=False)\n",
    "producers_df.to_csv('apiData/producers_data.csv', index=False)\n",
    "\n",
    "print(\"Data saved to CSV files.\")\n"
   ],
   "id": "initial_id",
   "outputs": [
    {
     "name": "stdout",
     "output_type": "stream",
     "text": [
      "Failed to fetch data for movie ID 133194, status code: 404\n",
      "Failed to fetch data for movie ID 503598, status code: 404\n",
      "Failed to fetch data for movie ID 340042, status code: 404\n",
      "Failed to fetch data for movie ID 424430, status code: 404\n",
      "Failed to fetch data for movie ID 403076, status code: 404\n",
      "Failed to fetch data for movie ID 439312, status code: 404\n",
      "Failed to fetch data for movie ID 470921, status code: 404\n",
      "Failed to fetch data for movie ID 561861, status code: 404\n",
      "Data saved to CSV files.\n"
     ]
    }
   ],
   "execution_count": 7
  },
  {
   "metadata": {},
   "cell_type": "code",
   "outputs": [],
   "execution_count": null,
   "source": "",
   "id": "9bd3607f2331a5a9"
  }
 ],
 "metadata": {
  "kernelspec": {
   "display_name": "Python 3",
   "language": "python",
   "name": "python3"
  },
  "language_info": {
   "codemirror_mode": {
    "name": "ipython",
    "version": 2
   },
   "file_extension": ".py",
   "mimetype": "text/x-python",
   "name": "python",
   "nbconvert_exporter": "python",
   "pygments_lexer": "ipython2",
   "version": "2.7.6"
  }
 },
 "nbformat": 4,
 "nbformat_minor": 5
}
