{
 "cells": [
  {
   "metadata": {},
   "cell_type": "markdown",
   "source": "# Exploratory Data Analysis (EDA)",
   "id": "1f38dacae2f23270"
  },
  {
   "metadata": {},
   "cell_type": "markdown",
   "source": [
    "## Introduction\n",
    "The purpose of this notebook is to perform an EDA on each provided data set to assist in determining what they contain and which would be most useful for our analysis."
   ],
   "id": "775a51bf4753e9f9"
  },
  {
   "metadata": {},
   "cell_type": "markdown",
   "source": [
    "## 1. Data Loading\n",
    "I'm going to start with the csv and tsv files and will take a look at the sqlite file separately."
   ],
   "id": "982c7308674ecbc9"
  },
  {
   "metadata": {
    "ExecuteTime": {
     "end_time": "2024-09-02T21:18:45.609285Z",
     "start_time": "2024-09-02T21:18:45.326187Z"
    }
   },
   "cell_type": "code",
   "source": [
    "import pandas as pd\n",
    "\n",
    "# Load the datasets\n",
    "bom_movie_gross = pd.read_csv('zippedData/bom.movie_gross.csv.gz')\n",
    "rt_movie_info = pd.read_csv('zippedData/rt.movie_info.tsv.gz', sep='\\t')\n",
    "rt_reviews = pd.read_csv('zippedData/rt.reviews.tsv.gz', sep='\\t', encoding='ISO-8859-1')\n",
    "tmdb_movies = pd.read_csv('zippedData/tmdb.movies.csv.gz')\n",
    "tn_movie_budgets = pd.read_csv('zippedData/tn.movie_budgets.csv.gz')\n",
    "\n",
    "# Display loaded data head\n",
    "bom_movie_gross.head(), rt_movie_info.head(), rt_reviews.head(), tmdb_movies.head(), tn_movie_budgets.head()\n"
   ],
   "id": "7340b6ba7eb90e8f",
   "outputs": [
    {
     "data": {
      "text/plain": [
       "(                                         title studio  domestic_gross  \\\n",
       " 0                                  Toy Story 3     BV     415000000.0   \n",
       " 1                   Alice in Wonderland (2010)     BV     334200000.0   \n",
       " 2  Harry Potter and the Deathly Hallows Part 1     WB     296000000.0   \n",
       " 3                                    Inception     WB     292600000.0   \n",
       " 4                          Shrek Forever After   P/DW     238700000.0   \n",
       " \n",
       "   foreign_gross  year  \n",
       " 0     652000000  2010  \n",
       " 1     691300000  2010  \n",
       " 2     664300000  2010  \n",
       " 3     535700000  2010  \n",
       " 4     513900000  2010  ,\n",
       "    id                                           synopsis rating  \\\n",
       " 0   1  This gritty, fast-paced, and innovative police...      R   \n",
       " 1   3  New York City, not-too-distant-future: Eric Pa...      R   \n",
       " 2   5  Illeana Douglas delivers a superb performance ...      R   \n",
       " 3   6  Michael Douglas runs afoul of a treacherous su...      R   \n",
       " 4   7                                                NaN     NR   \n",
       " \n",
       "                                  genre          director  \\\n",
       " 0  Action and Adventure|Classics|Drama  William Friedkin   \n",
       " 1    Drama|Science Fiction and Fantasy  David Cronenberg   \n",
       " 2    Drama|Musical and Performing Arts    Allison Anders   \n",
       " 3           Drama|Mystery and Suspense    Barry Levinson   \n",
       " 4                        Drama|Romance    Rodney Bennett   \n",
       " \n",
       "                             writer  theater_date      dvd_date currency  \\\n",
       " 0                   Ernest Tidyman   Oct 9, 1971  Sep 25, 2001      NaN   \n",
       " 1     David Cronenberg|Don DeLillo  Aug 17, 2012   Jan 1, 2013        $   \n",
       " 2                   Allison Anders  Sep 13, 1996  Apr 18, 2000      NaN   \n",
       " 3  Paul Attanasio|Michael Crichton   Dec 9, 1994  Aug 27, 1997      NaN   \n",
       " 4                     Giles Cooper           NaN           NaN      NaN   \n",
       " \n",
       "   box_office      runtime             studio  \n",
       " 0        NaN  104 minutes                NaN  \n",
       " 1    600,000  108 minutes  Entertainment One  \n",
       " 2        NaN  116 minutes                NaN  \n",
       " 3        NaN  128 minutes                NaN  \n",
       " 4        NaN  200 minutes                NaN  ,\n",
       "    id                                             review rating   fresh  \\\n",
       " 0   3  A distinctly gallows take on contemporary fina...    3/5   fresh   \n",
       " 1   3  It's an allegory in search of a meaning that n...    NaN  rotten   \n",
       " 2   3  ... life lived in a bubble in financial dealin...    NaN   fresh   \n",
       " 3   3  Continuing along a line introduced in last yea...    NaN   fresh   \n",
       " 4   3             ... a perverse twist on neorealism...     NaN   fresh   \n",
       " \n",
       "            critic  top_critic         publisher               date  \n",
       " 0      PJ Nabarro           0   Patrick Nabarro  November 10, 2018  \n",
       " 1  Annalee Newitz           0           io9.com       May 23, 2018  \n",
       " 2    Sean Axmaker           0  Stream on Demand    January 4, 2018  \n",
       " 3   Daniel Kasman           0              MUBI  November 16, 2017  \n",
       " 4             NaN           0      Cinema Scope   October 12, 2017  ,\n",
       "    Unnamed: 0            genre_ids     id original_language  \\\n",
       " 0           0      [12, 14, 10751]  12444                en   \n",
       " 1           1  [14, 12, 16, 10751]  10191                en   \n",
       " 2           2        [12, 28, 878]  10138                en   \n",
       " 3           3      [16, 35, 10751]    862                en   \n",
       " 4           4        [28, 878, 12]  27205                en   \n",
       " \n",
       "                                  original_title  popularity release_date  \\\n",
       " 0  Harry Potter and the Deathly Hallows: Part 1      33.533   2010-11-19   \n",
       " 1                      How to Train Your Dragon      28.734   2010-03-26   \n",
       " 2                                    Iron Man 2      28.515   2010-05-07   \n",
       " 3                                     Toy Story      28.005   1995-11-22   \n",
       " 4                                     Inception      27.920   2010-07-16   \n",
       " \n",
       "                                           title  vote_average  vote_count  \n",
       " 0  Harry Potter and the Deathly Hallows: Part 1           7.7       10788  \n",
       " 1                      How to Train Your Dragon           7.7        7610  \n",
       " 2                                    Iron Man 2           6.8       12368  \n",
       " 3                                     Toy Story           7.9       10174  \n",
       " 4                                     Inception           8.3       22186  ,\n",
       "    id  release_date                                        movie  \\\n",
       " 0   1  Dec 18, 2009                                       Avatar   \n",
       " 1   2  May 20, 2011  Pirates of the Caribbean: On Stranger Tides   \n",
       " 2   3   Jun 7, 2019                                 Dark Phoenix   \n",
       " 3   4   May 1, 2015                      Avengers: Age of Ultron   \n",
       " 4   5  Dec 15, 2017            Star Wars Ep. VIII: The Last Jedi   \n",
       " \n",
       "   production_budget domestic_gross worldwide_gross  \n",
       " 0      $425,000,000   $760,507,625  $2,776,345,279  \n",
       " 1      $410,600,000   $241,063,875  $1,045,663,875  \n",
       " 2      $350,000,000    $42,762,350    $149,762,350  \n",
       " 3      $330,600,000   $459,005,868  $1,403,013,963  \n",
       " 4      $317,000,000   $620,181,382  $1,316,721,747  )"
      ]
     },
     "execution_count": 2,
     "metadata": {},
     "output_type": "execute_result"
    }
   ],
   "execution_count": 2
  },
  {
   "metadata": {},
   "cell_type": "code",
   "outputs": [],
   "execution_count": null,
   "source": "",
   "id": "cd1008de7154db6c"
  }
 ],
 "metadata": {
  "kernelspec": {
   "display_name": "Python 3",
   "language": "python",
   "name": "python3"
  },
  "language_info": {
   "codemirror_mode": {
    "name": "ipython",
    "version": 2
   },
   "file_extension": ".py",
   "mimetype": "text/x-python",
   "name": "python",
   "nbconvert_exporter": "python",
   "pygments_lexer": "ipython2",
   "version": "2.7.6"
  }
 },
 "nbformat": 4,
 "nbformat_minor": 5
}
